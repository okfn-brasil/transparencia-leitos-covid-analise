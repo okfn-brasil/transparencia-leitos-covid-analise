{
 "cells": [
  {
   "cell_type": "markdown",
   "id": "limiting-pavilion",
   "metadata": {},
   "source": [
    "## Todo\n",
    "\n",
    "- comparar leitos cnes com leitos api, ver se está muito fora\n",
    "- medidas de desatualização por estado e tipo de gestão"
   ]
  },
  {
   "cell_type": "code",
   "execution_count": 1,
   "id": "optical-publicity",
   "metadata": {},
   "outputs": [],
   "source": [
    "import pandas as pd\n",
    "import numpy as np\n",
    "import json\n",
    "from datetime import datetime, timezone, timedelta\n",
    "import time\n",
    "import glob\n",
    "import gzip\n",
    "import requests"
   ]
  },
  {
   "cell_type": "code",
   "execution_count": 2,
   "id": "growing-stevens",
   "metadata": {},
   "outputs": [],
   "source": [
    "# # dt_run = datetime.datetime.strptime('2021-02-18', '%Y-%m-%d')\n",
    "# dt_run = datetime.now(timezone.utc) # UTC time\n",
    "# print(dt_run)"
   ]
  },
  {
   "cell_type": "markdown",
   "id": "helpful-turner",
   "metadata": {},
   "source": [
    "## Ler dados"
   ]
  },
  {
   "cell_type": "code",
   "execution_count": 17,
   "id": "breeding-nicaragua",
   "metadata": {},
   "outputs": [],
   "source": [
    "DATA_FOLDER = 'data/leitos/'"
   ]
  },
  {
   "cell_type": "code",
   "execution_count": 18,
   "id": "velvet-practitioner",
   "metadata": {},
   "outputs": [
    {
     "name": "stdout",
     "output_type": "stream",
     "text": [
      "data/leitos/data_2021-03-09.csv.gz\n"
     ]
    }
   ],
   "source": [
    "# data_files = glob.glob(f'{DATA_FOLDER}data_*.json.gz')\n",
    "data_files = glob.glob(f'{DATA_FOLDER}data_*.csv.gz')\n",
    "data_files.sort(reverse=True)\n",
    "DATA_FILE = data_files[0]\n",
    "print(DATA_FILE)"
   ]
  },
  {
   "cell_type": "code",
   "execution_count": 19,
   "id": "alien-adventure",
   "metadata": {},
   "outputs": [],
   "source": [
    "# with gzip.open(DATA_FILE, 'r') as fin:\n",
    "#     data = json.loads(fin.read().decode('utf-8'))\n",
    "    \n",
    "#     hits = data['hits']['hits']\n",
    "#     df = pd.json_normalize(hits)\n",
    "\n",
    "#     print(df.columns.values)\n",
    "#     df.columns = [x.replace('_source.', '') for x in df.columns.values]\n",
    "\n",
    "#     df.head()"
   ]
  },
  {
   "cell_type": "code",
   "execution_count": 20,
   "id": "uniform-twist",
   "metadata": {},
   "outputs": [
    {
     "ename": "NameError",
     "evalue": "name 'data' is not defined",
     "output_type": "error",
     "traceback": [
      "\u001b[0;31m---------------------------------------------------------------------------\u001b[0m",
      "\u001b[0;31mNameError\u001b[0m                                 Traceback (most recent call last)",
      "\u001b[0;32m<ipython-input-20-80a3148e2a20>\u001b[0m in \u001b[0;36m<module>\u001b[0;34m\u001b[0m\n\u001b[0;32m----> 1\u001b[0;31m \u001b[0mTS_RUN\u001b[0m \u001b[0;34m=\u001b[0m \u001b[0mpd\u001b[0m\u001b[0;34m.\u001b[0m\u001b[0mto_datetime\u001b[0m\u001b[0;34m(\u001b[0m\u001b[0mdata\u001b[0m\u001b[0;34m[\u001b[0m\u001b[0;34m'ts_run'\u001b[0m\u001b[0;34m]\u001b[0m\u001b[0;34m)\u001b[0m\u001b[0;34m\u001b[0m\u001b[0;34m\u001b[0m\u001b[0m\n\u001b[0m",
      "\u001b[0;31mNameError\u001b[0m: name 'data' is not defined"
     ]
    }
   ],
   "source": [
    "# TS_RUN = pd.to_datetime(data['ts_run'])"
   ]
  },
  {
   "cell_type": "code",
   "execution_count": 7,
   "id": "beginning-chase",
   "metadata": {},
   "outputs": [],
   "source": [
    "df = pd.read_csv(DATA_FILE)"
   ]
  },
  {
   "cell_type": "code",
   "execution_count": 21,
   "id": "welsh-calgary",
   "metadata": {},
   "outputs": [],
   "source": [
    "TS_RUN = pd.to_datetime(df.iloc[0]['ts_run'])"
   ]
  },
  {
   "cell_type": "code",
   "execution_count": 22,
   "id": "opening-escape",
   "metadata": {},
   "outputs": [
    {
     "data": {
      "text/plain": [
       "array(['_index', '_type', '_id', '_score', 'estado', 'estadoSigla',\n",
       "       'municipio', 'cnes', 'nomeCnes', 'dataNotificacaoOcupacao',\n",
       "       'ofertaRespiradores', 'ofertaHospCli', 'ofertaHospUti',\n",
       "       'ofertaSRAGCli', 'ofertaSRAGUti', 'ocupHospCli', 'ocupHospUti',\n",
       "       'ocupSRAGCli', 'ocupSRAGUti', 'altas', 'obitos',\n",
       "       'ocupacaoInformada', 'algumaOcupacaoInformada', 'ts_run',\n",
       "       'totalOfertaCli', 'totalOfertaUti', 'totalOcupCli', 'totalOcupUti',\n",
       "       'totalOfertaCliAlt', 'totalOfertaUtiAlt', 'has_uti_proxy'],\n",
       "      dtype=object)"
      ]
     },
     "execution_count": 22,
     "metadata": {},
     "output_type": "execute_result"
    }
   ],
   "source": [
    "df.columns.values"
   ]
  },
  {
   "cell_type": "markdown",
   "id": "equipped-settle",
   "metadata": {},
   "source": [
    "## Limpar e criar features"
   ]
  },
  {
   "cell_type": "code",
   "execution_count": 23,
   "id": "intimate-taxation",
   "metadata": {},
   "outputs": [],
   "source": [
    "df = df.fillna({\n",
    "    'ofertaHospCli': 0,\n",
    "    'ofertaSRAGCli': 0,\n",
    "    'ofertaHospUti': 0,\n",
    "    'ofertaSRAGUti': 0,\n",
    "    'ocupHospCli': 0,\n",
    "    'ocupSRAGCli': 0,\n",
    "    'ocupHospUti': 0,\n",
    "    'ocupSRAGUti': 0,\n",
    "})"
   ]
  },
  {
   "cell_type": "markdown",
   "id": "wrapped-spectacular",
   "metadata": {},
   "source": [
    "### Considerando oferta sem ocupação"
   ]
  },
  {
   "cell_type": "code",
   "execution_count": 24,
   "id": "competitive-cheese",
   "metadata": {},
   "outputs": [],
   "source": [
    "df['totalOfertaCli'] = df['ofertaHospCli'] + df['ofertaSRAGCli']\n",
    "df['totalOfertaUti'] = df['ofertaHospUti'] + df['ofertaSRAGUti']\n",
    "df['totalOcupCli'] = df['ocupHospCli'] + df['ocupSRAGCli']\n",
    "df['totalOcupUti'] = df['ocupHospUti'] + df['ocupSRAGUti']"
   ]
  },
  {
   "cell_type": "markdown",
   "id": "electrical-detroit",
   "metadata": {},
   "source": [
    "### Considerando oferta como oferta + ocupação"
   ]
  },
  {
   "cell_type": "code",
   "execution_count": 25,
   "id": "assigned-causing",
   "metadata": {},
   "outputs": [],
   "source": [
    "df['totalOfertaCliAlt'] = df['ofertaHospCli'] + df['ofertaSRAGCli'] + df['ocupHospCli'] + df['ocupSRAGCli']\n",
    "df['totalOfertaUtiAlt'] = df['ofertaHospUti'] + df['ofertaSRAGUti'] + df['ocupHospUti'] + df['ocupSRAGUti']"
   ]
  },
  {
   "cell_type": "markdown",
   "id": "serial-mistress",
   "metadata": {},
   "source": [
    "### Tem UTI\n",
    "\n",
    "- Tem alguma vaga ou ocupação de UTI, Hosp ou SRAG"
   ]
  },
  {
   "cell_type": "code",
   "execution_count": 26,
   "id": "bacterial-assignment",
   "metadata": {},
   "outputs": [],
   "source": [
    "df['has_uti_proxy'] = np.where(df['totalOfertaUtiAlt'] > 0, True, False)"
   ]
  },
  {
   "cell_type": "markdown",
   "id": "complete-pearl",
   "metadata": {},
   "source": [
    "### Colunas de tempo"
   ]
  },
  {
   "cell_type": "code",
   "execution_count": 27,
   "id": "exact-argentina",
   "metadata": {},
   "outputs": [],
   "source": [
    "df['dataNotificacaoOcupacao'] = pd.to_datetime(df['dataNotificacaoOcupacao'])"
   ]
  },
  {
   "cell_type": "code",
   "execution_count": 28,
   "id": "first-pipeline",
   "metadata": {},
   "outputs": [],
   "source": [
    "UPDATED_DAYS = [7, 14, 90]\n",
    "for d in UPDATED_DAYS:\n",
    "    df[f'updated_{str(d)}d'] = np.where(df['dataNotificacaoOcupacao'] >= TS_RUN - timedelta(days=d), True, False)"
   ]
  },
  {
   "cell_type": "code",
   "execution_count": 29,
   "id": "furnished-corrections",
   "metadata": {},
   "outputs": [
    {
     "name": "stdout",
     "output_type": "stream",
     "text": [
      "64.6% updated in 7 days\n",
      "66.8% updated in 14 days\n",
      "75.0% updated in 90 days\n"
     ]
    }
   ],
   "source": [
    "for d in UPDATED_DAYS:\n",
    "    pct_outdated = len(df[df[f'updated_{str(d)}d'] == True]) / len(df)\n",
    "    print(f'{round(pct_outdated * 100, 1)}% updated in {str(d)} days')"
   ]
  },
  {
   "cell_type": "code",
   "execution_count": 30,
   "id": "quantitative-primary",
   "metadata": {},
   "outputs": [
    {
     "data": {
      "text/html": [
       "<div>\n",
       "<style scoped>\n",
       "    .dataframe tbody tr th:only-of-type {\n",
       "        vertical-align: middle;\n",
       "    }\n",
       "\n",
       "    .dataframe tbody tr th {\n",
       "        vertical-align: top;\n",
       "    }\n",
       "\n",
       "    .dataframe thead th {\n",
       "        text-align: right;\n",
       "    }\n",
       "</style>\n",
       "<table border=\"1\" class=\"dataframe\">\n",
       "  <thead>\n",
       "    <tr style=\"text-align: right;\">\n",
       "      <th></th>\n",
       "      <th>_index</th>\n",
       "      <th>_type</th>\n",
       "      <th>_id</th>\n",
       "      <th>_score</th>\n",
       "      <th>estado</th>\n",
       "      <th>estadoSigla</th>\n",
       "      <th>municipio</th>\n",
       "      <th>cnes</th>\n",
       "      <th>nomeCnes</th>\n",
       "      <th>dataNotificacaoOcupacao</th>\n",
       "      <th>...</th>\n",
       "      <th>totalOfertaCli</th>\n",
       "      <th>totalOfertaUti</th>\n",
       "      <th>totalOcupCli</th>\n",
       "      <th>totalOcupUti</th>\n",
       "      <th>totalOfertaCliAlt</th>\n",
       "      <th>totalOfertaUtiAlt</th>\n",
       "      <th>has_uti_proxy</th>\n",
       "      <th>updated_7d</th>\n",
       "      <th>updated_14d</th>\n",
       "      <th>updated_90d</th>\n",
       "    </tr>\n",
       "  </thead>\n",
       "  <tbody>\n",
       "    <tr>\n",
       "      <th>8</th>\n",
       "      <td>leito_ocupacao</td>\n",
       "      <td>_doc</td>\n",
       "      <td>228753</td>\n",
       "      <td>1.0</td>\n",
       "      <td>Ceará</td>\n",
       "      <td>ce</td>\n",
       "      <td>Pacatuba</td>\n",
       "      <td>228753</td>\n",
       "      <td>NaN</td>\n",
       "      <td>2020-09-04 10:58:51.200000+00:00</td>\n",
       "      <td>...</td>\n",
       "      <td>0.0</td>\n",
       "      <td>0.0</td>\n",
       "      <td>0.0</td>\n",
       "      <td>0.0</td>\n",
       "      <td>0.0</td>\n",
       "      <td>0.0</td>\n",
       "      <td>False</td>\n",
       "      <td>False</td>\n",
       "      <td>False</td>\n",
       "      <td>False</td>\n",
       "    </tr>\n",
       "    <tr>\n",
       "      <th>34</th>\n",
       "      <td>leito_ocupacao</td>\n",
       "      <td>_doc</td>\n",
       "      <td>2712016</td>\n",
       "      <td>1.0</td>\n",
       "      <td>Pernambuco</td>\n",
       "      <td>PE</td>\n",
       "      <td>Sertânia</td>\n",
       "      <td>2712016</td>\n",
       "      <td>HOSPITAL MARIA ALICE GOMES LAFAYETTE</td>\n",
       "      <td>2020-11-27 03:00:19.869000+00:00</td>\n",
       "      <td>...</td>\n",
       "      <td>72.0</td>\n",
       "      <td>0.0</td>\n",
       "      <td>10.0</td>\n",
       "      <td>0.0</td>\n",
       "      <td>82.0</td>\n",
       "      <td>0.0</td>\n",
       "      <td>False</td>\n",
       "      <td>False</td>\n",
       "      <td>False</td>\n",
       "      <td>False</td>\n",
       "    </tr>\n",
       "    <tr>\n",
       "      <th>35</th>\n",
       "      <td>leito_ocupacao</td>\n",
       "      <td>_doc</td>\n",
       "      <td>0116335</td>\n",
       "      <td>1.0</td>\n",
       "      <td>Pará</td>\n",
       "      <td>PA</td>\n",
       "      <td>Marabá</td>\n",
       "      <td>0116335</td>\n",
       "      <td>HOSPITAL DE CAMPANHA COVID 19 MARABA</td>\n",
       "      <td>2020-11-26 03:00:19.985000+00:00</td>\n",
       "      <td>...</td>\n",
       "      <td>169.0</td>\n",
       "      <td>31.0</td>\n",
       "      <td>3.0</td>\n",
       "      <td>0.0</td>\n",
       "      <td>172.0</td>\n",
       "      <td>31.0</td>\n",
       "      <td>True</td>\n",
       "      <td>False</td>\n",
       "      <td>False</td>\n",
       "      <td>False</td>\n",
       "    </tr>\n",
       "    <tr>\n",
       "      <th>36</th>\n",
       "      <td>leito_ocupacao</td>\n",
       "      <td>_doc</td>\n",
       "      <td>12769</td>\n",
       "      <td>1.0</td>\n",
       "      <td>Rio de Janeiro</td>\n",
       "      <td>rj</td>\n",
       "      <td>Niterói</td>\n",
       "      <td>12769</td>\n",
       "      <td>NaN</td>\n",
       "      <td>2020-10-18 03:00:09.902000+00:00</td>\n",
       "      <td>...</td>\n",
       "      <td>0.0</td>\n",
       "      <td>0.0</td>\n",
       "      <td>20.0</td>\n",
       "      <td>7.0</td>\n",
       "      <td>20.0</td>\n",
       "      <td>7.0</td>\n",
       "      <td>True</td>\n",
       "      <td>False</td>\n",
       "      <td>False</td>\n",
       "      <td>False</td>\n",
       "    </tr>\n",
       "    <tr>\n",
       "      <th>37</th>\n",
       "      <td>leito_ocupacao</td>\n",
       "      <td>_doc</td>\n",
       "      <td>2547317</td>\n",
       "      <td>1.0</td>\n",
       "      <td>Espírito Santo</td>\n",
       "      <td>ES</td>\n",
       "      <td>São José do Calçado</td>\n",
       "      <td>2547317</td>\n",
       "      <td>HOSPITAL SAO JOSE</td>\n",
       "      <td>2020-10-18 03:00:12.938000+00:00</td>\n",
       "      <td>...</td>\n",
       "      <td>66.0</td>\n",
       "      <td>10.0</td>\n",
       "      <td>26.0</td>\n",
       "      <td>8.0</td>\n",
       "      <td>92.0</td>\n",
       "      <td>18.0</td>\n",
       "      <td>True</td>\n",
       "      <td>False</td>\n",
       "      <td>False</td>\n",
       "      <td>False</td>\n",
       "    </tr>\n",
       "  </tbody>\n",
       "</table>\n",
       "<p>5 rows × 34 columns</p>\n",
       "</div>"
      ],
      "text/plain": [
       "            _index _type      _id  _score          estado estadoSigla  \\\n",
       "8   leito_ocupacao  _doc   228753     1.0           Ceará          ce   \n",
       "34  leito_ocupacao  _doc  2712016     1.0      Pernambuco          PE   \n",
       "35  leito_ocupacao  _doc  0116335     1.0            Pará          PA   \n",
       "36  leito_ocupacao  _doc    12769     1.0  Rio de Janeiro          rj   \n",
       "37  leito_ocupacao  _doc  2547317     1.0  Espírito Santo          ES   \n",
       "\n",
       "              municipio     cnes                              nomeCnes  \\\n",
       "8              Pacatuba   228753                                   NaN   \n",
       "34             Sertânia  2712016  HOSPITAL MARIA ALICE GOMES LAFAYETTE   \n",
       "35               Marabá  0116335  HOSPITAL DE CAMPANHA COVID 19 MARABA   \n",
       "36              Niterói    12769                                   NaN   \n",
       "37  São José do Calçado  2547317                     HOSPITAL SAO JOSE   \n",
       "\n",
       "            dataNotificacaoOcupacao  ...  totalOfertaCli  totalOfertaUti  \\\n",
       "8  2020-09-04 10:58:51.200000+00:00  ...             0.0             0.0   \n",
       "34 2020-11-27 03:00:19.869000+00:00  ...            72.0             0.0   \n",
       "35 2020-11-26 03:00:19.985000+00:00  ...           169.0            31.0   \n",
       "36 2020-10-18 03:00:09.902000+00:00  ...             0.0             0.0   \n",
       "37 2020-10-18 03:00:12.938000+00:00  ...            66.0            10.0   \n",
       "\n",
       "    totalOcupCli  totalOcupUti  totalOfertaCliAlt  totalOfertaUtiAlt  \\\n",
       "8            0.0           0.0                0.0                0.0   \n",
       "34          10.0           0.0               82.0                0.0   \n",
       "35           3.0           0.0              172.0               31.0   \n",
       "36          20.0           7.0               20.0                7.0   \n",
       "37          26.0           8.0               92.0               18.0   \n",
       "\n",
       "    has_uti_proxy  updated_7d  updated_14d  updated_90d  \n",
       "8           False       False        False        False  \n",
       "34          False       False        False        False  \n",
       "35           True       False        False        False  \n",
       "36           True       False        False        False  \n",
       "37           True       False        False        False  \n",
       "\n",
       "[5 rows x 34 columns]"
      ]
     },
     "execution_count": 30,
     "metadata": {},
     "output_type": "execute_result"
    }
   ],
   "source": [
    "df[df['updated_90d'] == False].head()"
   ]
  },
  {
   "cell_type": "markdown",
   "id": "bigger-legislation",
   "metadata": {},
   "source": [
    "### Consulta CNES"
   ]
  },
  {
   "cell_type": "code",
   "execution_count": 31,
   "id": "raised-copper",
   "metadata": {},
   "outputs": [],
   "source": [
    "STANDARD_HEADERS = {\n",
    "    'Connection': 'keep-alive',\n",
    "    'Pragma': 'no-cache',\n",
    "    'Cache-Control': 'no-cache',\n",
    "    'Accept': 'application/json, text/plain, */*',\n",
    "    'Referer': 'http://cnes.datasus.gov.br/pages/estabelecimentos/consulta.jsp',\n",
    "    'User-Agent': 'Mozilla/5.0 (Windows NT 10.0; Win64; x64) AppleWebKit/537.36 (KHTML, like Gecko) Chrome/70.0.3538.77 Safari/537.36',\n",
    "}"
   ]
  },
  {
   "cell_type": "code",
   "execution_count": 32,
   "id": "built-australian",
   "metadata": {},
   "outputs": [],
   "source": [
    "def get_basic_info_by_cnes(cnes):\n",
    "    params = (\n",
    "        ('cnes', cnes),\n",
    "    )\n",
    "    r = requests.get('http://cnes.datasus.gov.br/services/estabelecimentos', headers=STANDARD_HEADERS, params=params, verify=False)\n",
    "    return json.loads(r.content)"
   ]
  },
  {
   "cell_type": "code",
   "execution_count": 33,
   "id": "worse-grove",
   "metadata": {},
   "outputs": [],
   "source": [
    "def get_detailed_info(id):\n",
    "    r = requests.get(f'http://cnes.datasus.gov.br/services/estabelecimentos/{id}', headers=STANDARD_HEADERS, verify=False)\n",
    "    return json.loads(r.content)"
   ]
  },
  {
   "cell_type": "code",
   "execution_count": 34,
   "id": "acquired-africa",
   "metadata": {},
   "outputs": [],
   "source": [
    "def get_beds(id):\n",
    "    r = requests.get(f'http://cnes.datasus.gov.br/services/estabelecimentos-hospitalar/{id}', headers=STANDARD_HEADERS, verify=False)\n",
    "    return json.loads(r.content)"
   ]
  },
  {
   "cell_type": "code",
   "execution_count": 35,
   "id": "proprietary-cowboy",
   "metadata": {},
   "outputs": [],
   "source": [
    "def check_if_deactivated(id):\n",
    "    # returns True is deactivated, false otherwise\n",
    "    r = requests.get(f'http://cnes.datasus.gov.br/services/estabelecimentos-desativados-local/validar/{id}', headers=STANDARD_HEADERS, verify=False)\n",
    "    return json.loads(r.content)['existe']"
   ]
  },
  {
   "cell_type": "code",
   "execution_count": 36,
   "id": "hungarian-puppy",
   "metadata": {},
   "outputs": [],
   "source": [
    "def get_all_info(cnes):\n",
    "    basic_info = get_basic_info_by_cnes(cnes)\n",
    "    # display(basic_info)\n",
    "    first_match = basic_info[0]\n",
    "    id = str(first_match['id'])\n",
    "\n",
    "    beds = get_beds(id)\n",
    "    detailed_info = get_detailed_info(id)\n",
    "    deactivated = check_if_deactivated(id)\n",
    "    \n",
    "    detailed_info['beds'] = beds\n",
    "    detailed_info['deactivated'] = deactivated\n",
    "    return detailed_info"
   ]
  },
  {
   "cell_type": "code",
   "execution_count": 37,
   "id": "familiar-antenna",
   "metadata": {},
   "outputs": [],
   "source": [
    "def get_all_hospital_data(df):\n",
    "    ts_run = datetime.now(timezone.utc)\n",
    "    cnes_codes = df[:].cnes.unique()\n",
    "    counter = 1\n",
    "    errors = []\n",
    "    start_time = time.time()\n",
    "    end_time = time.time()\n",
    "\n",
    "    for cnes in cnes_codes:\n",
    "        print(cnes, f'{counter}/{len(cnes_codes)}')\n",
    "        try:\n",
    "            info = get_all_info(cnes)\n",
    "            info['ts_run'] = ts_run.isoformat()\n",
    "            info['error'] = False\n",
    "            with open(f'data/hospitais/{cnes}.json', 'w') as outfile:\n",
    "                json.dump(info, outfile)\n",
    "        except Exception as e:\n",
    "            print('error:', e)\n",
    "            errors.append(cnes)\n",
    "            with open(f'data/hospitais/{cnes}.json', 'w') as outfile:\n",
    "                json.dump({'cnes': cnes, 'error': True}, outfile)\n",
    "        finally:\n",
    "            counter += 1\n",
    "\n",
    "    time_elapsed = (end_time - start_time)\n",
    "    print(time_elapsed)\n",
    "    return errors"
   ]
  },
  {
   "cell_type": "markdown",
   "id": "strong-canvas",
   "metadata": {},
   "source": [
    "### Fazer consultas"
   ]
  },
  {
   "cell_type": "code",
   "execution_count": 38,
   "id": "experimental-ambassador",
   "metadata": {},
   "outputs": [],
   "source": [
    "# errors = get_all_hospital_data(df)\n",
    "# with open(f'data/hospitais_errors.json', 'w') as outfile:\n",
    "#     json.dump(errors, outfile)"
   ]
  },
  {
   "cell_type": "code",
   "execution_count": 39,
   "id": "united-navigation",
   "metadata": {},
   "outputs": [
    {
     "name": "stdout",
     "output_type": "stream",
     "text": [
      "% with invalid CNES name 0.12901540872290415\n"
     ]
    }
   ],
   "source": [
    "print('% with invalid CNES name', len(df[(df.nomeCnes.isna())]) / len(df))"
   ]
  },
  {
   "cell_type": "code",
   "execution_count": 40,
   "id": "cognitive-cleaners",
   "metadata": {},
   "outputs": [
    {
     "name": "stdout",
     "output_type": "stream",
     "text": [
      "% with invalid CNES name AND updated last 14 days 0.03499608252807521\n"
     ]
    }
   ],
   "source": [
    "print('% with invalid CNES name AND updated last 14 days', len(df[(df.nomeCnes.isna()) & (df.updated_14d == True)]) / len(df))"
   ]
  },
  {
   "cell_type": "code",
   "execution_count": 41,
   "id": "premium-river",
   "metadata": {},
   "outputs": [],
   "source": [
    "cnes_files = glob.glob('data/hospitais/*.json')\n",
    "\n",
    "frames = []\n",
    "for file_path in cnes_files:\n",
    "    with open(file_path) as f:\n",
    "        data = json.load(f)\n",
    "    if data['error'] == False:\n",
    "        frames.append(pd.json_normalize(data))\n",
    "\n",
    "df_hosp = pd.concat(frames)"
   ]
  },
  {
   "cell_type": "code",
   "execution_count": 42,
   "id": "aquatic-monte",
   "metadata": {},
   "outputs": [],
   "source": [
    "# salvar\n",
    "# df_hosp.to_csv('exports/hospitais_cnes.csv', index=False)"
   ]
  },
  {
   "cell_type": "code",
   "execution_count": 43,
   "id": "digital-violation",
   "metadata": {},
   "outputs": [
    {
     "data": {
      "text/html": [
       "<div>\n",
       "<style scoped>\n",
       "    .dataframe tbody tr th:only-of-type {\n",
       "        vertical-align: middle;\n",
       "    }\n",
       "\n",
       "    .dataframe tbody tr th {\n",
       "        vertical-align: top;\n",
       "    }\n",
       "\n",
       "    .dataframe thead th {\n",
       "        text-align: right;\n",
       "    }\n",
       "</style>\n",
       "<table border=\"1\" class=\"dataframe\">\n",
       "  <thead>\n",
       "    <tr style=\"text-align: right;\">\n",
       "      <th></th>\n",
       "      <th>id</th>\n",
       "      <th>cnes</th>\n",
       "      <th>noFantasia</th>\n",
       "      <th>noEmpresarial</th>\n",
       "      <th>natJuridica</th>\n",
       "      <th>natJuridicaMant</th>\n",
       "      <th>cnpj</th>\n",
       "      <th>tpPessoa</th>\n",
       "      <th>nvDependencia</th>\n",
       "      <th>nuAlvara</th>\n",
       "      <th>...</th>\n",
       "      <th>dsMotivoDesab</th>\n",
       "      <th>cpfDiretorCln</th>\n",
       "      <th>nuCompDesab</th>\n",
       "      <th>dtCarga</th>\n",
       "      <th>dtAtualizacaoOrigem</th>\n",
       "      <th>dtAtualizacao</th>\n",
       "      <th>beds</th>\n",
       "      <th>deactivated</th>\n",
       "      <th>ts_run</th>\n",
       "      <th>error</th>\n",
       "    </tr>\n",
       "  </thead>\n",
       "  <tbody>\n",
       "    <tr>\n",
       "      <th>0</th>\n",
       "      <td>2929909383298</td>\n",
       "      <td>9383298</td>\n",
       "      <td>HOSPITAL REGIONAL DA CHAPADA</td>\n",
       "      <td>BAHIA SECRETARIA DE SAUDE DO ESTADO</td>\n",
       "      <td>1</td>\n",
       "      <td>1</td>\n",
       "      <td>None</td>\n",
       "      <td>3</td>\n",
       "      <td>3</td>\n",
       "      <td>None</td>\n",
       "      <td>...</td>\n",
       "      <td>None</td>\n",
       "      <td>82902623534</td>\n",
       "      <td>None</td>\n",
       "      <td>28/02/2021</td>\n",
       "      <td>03/12/2017</td>\n",
       "      <td>25/02/2021</td>\n",
       "      <td>[{'dsAtributo': 'COMPLEMENTAR', 'coLeito': '75...</td>\n",
       "      <td>False</td>\n",
       "      <td>2021-03-03T18:25:14.012835+00:00</td>\n",
       "      <td>False</td>\n",
       "    </tr>\n",
       "    <tr>\n",
       "      <th>0</th>\n",
       "      <td>5107002397684</td>\n",
       "      <td>2397684</td>\n",
       "      <td>HOSPITAL E MATERNIDADE SAO JOAO BATISTA</td>\n",
       "      <td>SOCIEDADE HOSPITALAR SAO JOAO BATISTA</td>\n",
       "      <td>3</td>\n",
       "      <td>None</td>\n",
       "      <td>03128118000198</td>\n",
       "      <td>3</td>\n",
       "      <td>1</td>\n",
       "      <td>58632909/2020</td>\n",
       "      <td>...</td>\n",
       "      <td>None</td>\n",
       "      <td>05626030263</td>\n",
       "      <td>None</td>\n",
       "      <td>24/02/2021</td>\n",
       "      <td>03/06/2004</td>\n",
       "      <td>24/07/2020</td>\n",
       "      <td>[{'dsAtributo': 'COMPLEMENTAR', 'coLeito': '66...</td>\n",
       "      <td>False</td>\n",
       "      <td>2021-03-03T18:25:14.012835+00:00</td>\n",
       "      <td>False</td>\n",
       "    </tr>\n",
       "    <tr>\n",
       "      <th>0</th>\n",
       "      <td>2612502344289</td>\n",
       "      <td>2344289</td>\n",
       "      <td>HOSPITAL MUNICIPAL RAYMUNDO FRANCELINO ARAGAO</td>\n",
       "      <td>PREFEITURA MUNICIPAL DE SANTA CRUZ DO CAPIBARIBE</td>\n",
       "      <td>1</td>\n",
       "      <td>1</td>\n",
       "      <td>None</td>\n",
       "      <td>3</td>\n",
       "      <td>3</td>\n",
       "      <td>None</td>\n",
       "      <td>...</td>\n",
       "      <td>None</td>\n",
       "      <td>08168838408</td>\n",
       "      <td>None</td>\n",
       "      <td>28/02/2021</td>\n",
       "      <td>30/10/2001</td>\n",
       "      <td>04/09/2020</td>\n",
       "      <td>[{'dsAtributo': 'ESPEC - CIRURGICO', 'coLeito'...</td>\n",
       "      <td>False</td>\n",
       "      <td>2021-03-03T18:25:14.012835+00:00</td>\n",
       "      <td>False</td>\n",
       "    </tr>\n",
       "    <tr>\n",
       "      <th>0</th>\n",
       "      <td>3550305420938</td>\n",
       "      <td>5420938</td>\n",
       "      <td>HOSP MUN CARMEN PRUDENTE</td>\n",
       "      <td>PREFEITURA DO MUNICIPIO DE SAO PAULO</td>\n",
       "      <td>1</td>\n",
       "      <td>1</td>\n",
       "      <td>46392148004107</td>\n",
       "      <td>3</td>\n",
       "      <td>3</td>\n",
       "      <td>004552/2007 VS</td>\n",
       "      <td>...</td>\n",
       "      <td>None</td>\n",
       "      <td>01422554830</td>\n",
       "      <td>None</td>\n",
       "      <td>28/02/2021</td>\n",
       "      <td>29/06/2007</td>\n",
       "      <td>30/10/2020</td>\n",
       "      <td>[{'dsAtributo': 'COMPLEMENTAR', 'coLeito': '93...</td>\n",
       "      <td>True</td>\n",
       "      <td>2021-03-03T18:25:14.012835+00:00</td>\n",
       "      <td>False</td>\n",
       "    </tr>\n",
       "    <tr>\n",
       "      <th>0</th>\n",
       "      <td>5300100010480</td>\n",
       "      <td>0010480</td>\n",
       "      <td>HOSPITAL REGIONAL DE CEILANDIA</td>\n",
       "      <td>HOSPITAL REGIONAL DE CEILANDIA</td>\n",
       "      <td>1</td>\n",
       "      <td>1</td>\n",
       "      <td>00394700001341</td>\n",
       "      <td>3</td>\n",
       "      <td>3</td>\n",
       "      <td>None</td>\n",
       "      <td>...</td>\n",
       "      <td>None</td>\n",
       "      <td>49350331187</td>\n",
       "      <td>None</td>\n",
       "      <td>02/03/2021</td>\n",
       "      <td>25/11/2002</td>\n",
       "      <td>01/03/2021</td>\n",
       "      <td>[{'dsAtributo': 'COMPLEMENTAR', 'coLeito': '96...</td>\n",
       "      <td>False</td>\n",
       "      <td>2021-03-03T18:25:14.012835+00:00</td>\n",
       "      <td>False</td>\n",
       "    </tr>\n",
       "  </tbody>\n",
       "</table>\n",
       "<p>5 rows × 37 columns</p>\n",
       "</div>"
      ],
      "text/plain": [
       "              id     cnes                                     noFantasia  \\\n",
       "0  2929909383298  9383298                   HOSPITAL REGIONAL DA CHAPADA   \n",
       "0  5107002397684  2397684        HOSPITAL E MATERNIDADE SAO JOAO BATISTA   \n",
       "0  2612502344289  2344289  HOSPITAL MUNICIPAL RAYMUNDO FRANCELINO ARAGAO   \n",
       "0  3550305420938  5420938                       HOSP MUN CARMEN PRUDENTE   \n",
       "0  5300100010480  0010480                 HOSPITAL REGIONAL DE CEILANDIA   \n",
       "\n",
       "                                      noEmpresarial natJuridica  \\\n",
       "0               BAHIA SECRETARIA DE SAUDE DO ESTADO           1   \n",
       "0             SOCIEDADE HOSPITALAR SAO JOAO BATISTA           3   \n",
       "0  PREFEITURA MUNICIPAL DE SANTA CRUZ DO CAPIBARIBE           1   \n",
       "0              PREFEITURA DO MUNICIPIO DE SAO PAULO           1   \n",
       "0                    HOSPITAL REGIONAL DE CEILANDIA           1   \n",
       "\n",
       "  natJuridicaMant            cnpj tpPessoa nvDependencia        nuAlvara  ...  \\\n",
       "0               1            None        3             3            None  ...   \n",
       "0            None  03128118000198        3             1   58632909/2020  ...   \n",
       "0               1            None        3             3            None  ...   \n",
       "0               1  46392148004107        3             3  004552/2007 VS  ...   \n",
       "0               1  00394700001341        3             3            None  ...   \n",
       "\n",
       "  dsMotivoDesab cpfDiretorCln nuCompDesab     dtCarga dtAtualizacaoOrigem  \\\n",
       "0          None   82902623534        None  28/02/2021          03/12/2017   \n",
       "0          None   05626030263        None  24/02/2021          03/06/2004   \n",
       "0          None   08168838408        None  28/02/2021          30/10/2001   \n",
       "0          None   01422554830        None  28/02/2021          29/06/2007   \n",
       "0          None   49350331187        None  02/03/2021          25/11/2002   \n",
       "\n",
       "  dtAtualizacao                                               beds  \\\n",
       "0    25/02/2021  [{'dsAtributo': 'COMPLEMENTAR', 'coLeito': '75...   \n",
       "0    24/07/2020  [{'dsAtributo': 'COMPLEMENTAR', 'coLeito': '66...   \n",
       "0    04/09/2020  [{'dsAtributo': 'ESPEC - CIRURGICO', 'coLeito'...   \n",
       "0    30/10/2020  [{'dsAtributo': 'COMPLEMENTAR', 'coLeito': '93...   \n",
       "0    01/03/2021  [{'dsAtributo': 'COMPLEMENTAR', 'coLeito': '96...   \n",
       "\n",
       "  deactivated                            ts_run  error  \n",
       "0       False  2021-03-03T18:25:14.012835+00:00  False  \n",
       "0       False  2021-03-03T18:25:14.012835+00:00  False  \n",
       "0       False  2021-03-03T18:25:14.012835+00:00  False  \n",
       "0        True  2021-03-03T18:25:14.012835+00:00  False  \n",
       "0       False  2021-03-03T18:25:14.012835+00:00  False  \n",
       "\n",
       "[5 rows x 37 columns]"
      ]
     },
     "execution_count": 43,
     "metadata": {},
     "output_type": "execute_result"
    }
   ],
   "source": [
    "df_hosp.head()"
   ]
  },
  {
   "cell_type": "code",
   "execution_count": 44,
   "id": "neutral-pencil",
   "metadata": {},
   "outputs": [
    {
     "data": {
      "text/plain": [
       "0.039764771772612714"
      ]
     },
     "execution_count": 44,
     "metadata": {},
     "output_type": "execute_result"
    }
   ],
   "source": [
    "deactivated_cnes = df_hosp[df_hosp.deactivated == True].cnes.tolist()\n",
    "len(deactivated_cnes) / len(df_hosp)"
   ]
  },
  {
   "cell_type": "markdown",
   "id": "cheap-photographer",
   "metadata": {},
   "source": [
    "### Merge com dados da API"
   ]
  },
  {
   "cell_type": "code",
   "execution_count": 45,
   "id": "spanish-ghost",
   "metadata": {},
   "outputs": [],
   "source": [
    "df_h = df.merge(df_hosp, on='cnes', suffixes=('', '_cnes'), how='left')"
   ]
  },
  {
   "cell_type": "code",
   "execution_count": 46,
   "id": "interesting-clock",
   "metadata": {},
   "outputs": [
    {
     "data": {
      "text/plain": [
       "0.026638809088534866"
      ]
     },
     "execution_count": 46,
     "metadata": {},
     "output_type": "execute_result"
    }
   ],
   "source": [
    "len(df_h[(df_h.deactivated == True) & (df_h.updated_14d == True)]) / len(df_h)"
   ]
  },
  {
   "cell_type": "code",
   "execution_count": 47,
   "id": "spatial-indication",
   "metadata": {},
   "outputs": [
    {
     "data": {
      "text/plain": [
       "0.010446591799425437"
      ]
     },
     "execution_count": 47,
     "metadata": {},
     "output_type": "execute_result"
    }
   ],
   "source": [
    "len(df_h[(df_h.deactivated == True) & (df_h.updated_14d == False)]) / len(df_h)"
   ]
  },
  {
   "cell_type": "code",
   "execution_count": 48,
   "id": "living-accordance",
   "metadata": {},
   "outputs": [
    {
     "data": {
      "text/plain": [
       "array(['_index', '_type', '_id', '_score', 'estado', 'estadoSigla',\n",
       "       'municipio', 'cnes', 'nomeCnes', 'dataNotificacaoOcupacao',\n",
       "       'ofertaRespiradores', 'ofertaHospCli', 'ofertaHospUti',\n",
       "       'ofertaSRAGCli', 'ofertaSRAGUti', 'ocupHospCli', 'ocupHospUti',\n",
       "       'ocupSRAGCli', 'ocupSRAGUti', 'altas', 'obitos',\n",
       "       'ocupacaoInformada', 'algumaOcupacaoInformada', 'ts_run',\n",
       "       'totalOfertaCli', 'totalOfertaUti', 'totalOcupCli', 'totalOcupUti',\n",
       "       'totalOfertaCliAlt', 'totalOfertaUtiAlt', 'has_uti_proxy',\n",
       "       'updated_7d', 'updated_14d', 'updated_90d', 'id', 'noFantasia',\n",
       "       'noEmpresarial', 'natJuridica', 'natJuridicaMant', 'cnpj',\n",
       "       'tpPessoa', 'nvDependencia', 'nuAlvara', 'dtExpAlvara',\n",
       "       'orgExpAlvara', 'dsTpUnidade', 'dsStpUnidade', 'noLogradouro',\n",
       "       'nuEndereco', 'cep', 'regionalSaude', 'bairro', 'noComplemento',\n",
       "       'municipio_cnes', 'noMunicipio', 'uf', 'tpGestao', 'nuTelefone',\n",
       "       'tpSempreAberto', 'coMotivoDesab', 'dsMotivoDesab',\n",
       "       'cpfDiretorCln', 'nuCompDesab', 'dtCarga', 'dtAtualizacaoOrigem',\n",
       "       'dtAtualizacao', 'beds', 'deactivated', 'ts_run_cnes', 'error'],\n",
       "      dtype=object)"
      ]
     },
     "execution_count": 48,
     "metadata": {},
     "output_type": "execute_result"
    }
   ],
   "source": [
    "df_h.columns.values"
   ]
  },
  {
   "cell_type": "code",
   "execution_count": 49,
   "id": "royal-extra",
   "metadata": {},
   "outputs": [
    {
     "name": "stdout",
     "output_type": "stream",
     "text": [
      "% which could not find CNES data 0.06738051710629407\n"
     ]
    }
   ],
   "source": [
    "print('% which could not find CNES data', len(df_h[df_h.id.isna()]) / len(df_h))"
   ]
  },
  {
   "cell_type": "code",
   "execution_count": 50,
   "id": "owned-leone",
   "metadata": {},
   "outputs": [
    {
     "name": "stdout",
     "output_type": "stream",
     "text": [
      "% which could not find CNES data AND updated last 14d 0.008879603029511622\n"
     ]
    }
   ],
   "source": [
    "print('% which could not find CNES data AND updated last 14d', len(df_h[(df_h.id.isna()) & (df_h.updated_14d == True)]) / len(df_h))"
   ]
  },
  {
   "cell_type": "code",
   "execution_count": 51,
   "id": "suited-assembly",
   "metadata": {},
   "outputs": [
    {
     "name": "stdout",
     "output_type": "stream",
     "text": [
      "% with CNES data AND NOT updated last 14d 0.2734395403499608\n"
     ]
    }
   ],
   "source": [
    "print('% with CNES data AND NOT updated last 14d', len(df_h[(df_h.id.notna()) & (df_h.updated_14d == False)]) / len(df_h))"
   ]
  },
  {
   "cell_type": "markdown",
   "id": "sustained-radar",
   "metadata": {},
   "source": [
    "### Tentando diferenciar os desativados\n",
    "\n",
    "- Não tem dados CNES & não foram atualizados nos últimos 14 dias\n",
    "- OU Tem dados CNES & CNES == 'desativado' & não foram atualizados nos últimos 14 dias"
   ]
  },
  {
   "cell_type": "code",
   "execution_count": 52,
   "id": "flexible-amber",
   "metadata": {},
   "outputs": [],
   "source": [
    "df_deactivated = (df_h[\n",
    "    ((df_h.id.isna()) & (df_h.updated_14d == False))\n",
    "    |\n",
    "    ((df_h.id.notna()) & (df_h.deactivated == True) & (df_h.updated_14d == False))\n",
    "])"
   ]
  },
  {
   "cell_type": "code",
   "execution_count": 53,
   "id": "boxed-rotation",
   "metadata": {},
   "outputs": [
    {
     "name": "stdout",
     "output_type": "stream",
     "text": [
      "_index                                                        leito_ocupacao\n",
      "_type                                                                   _doc\n",
      "_id                                                                  2160498\n",
      "_score                                                                     1\n",
      "estado                                                          Minas Gerais\n",
      "estadoSigla                                                               MG\n",
      "municipio                                                           Iguatama\n",
      "cnes                                                                 2160498\n",
      "nomeCnes                                    HOSPITAL MUNICIPAL SAO FRANCISCO\n",
      "dataNotificacaoOcupacao                     2020-07-03 20:57:31.521000+00:00\n",
      "ofertaRespiradores                                                         0\n",
      "ofertaHospCli                                                             16\n",
      "ofertaHospUti                                                              0\n",
      "ofertaSRAGCli                                                              0\n",
      "ofertaSRAGUti                                                              0\n",
      "ocupHospCli                                                                0\n",
      "ocupHospUti                                                                0\n",
      "ocupSRAGCli                                                                0\n",
      "ocupSRAGUti                                                                0\n",
      "altas                                                                      0\n",
      "obitos                                                                     0\n",
      "ocupacaoInformada                                                       True\n",
      "algumaOcupacaoInformada                                                 True\n",
      "ts_run                                      2021-03-09T16:01:06.965921+00:00\n",
      "totalOfertaCli                                                            16\n",
      "totalOfertaUti                                                             0\n",
      "totalOcupCli                                                               0\n",
      "totalOcupUti                                                               0\n",
      "totalOfertaCliAlt                                                         16\n",
      "totalOfertaUtiAlt                                                          0\n",
      "has_uti_proxy                                                          False\n",
      "updated_7d                                                             False\n",
      "updated_14d                                                            False\n",
      "updated_90d                                                            False\n",
      "id                                                             3130302160498\n",
      "noFantasia                                  HOSPITAL MUNICIPAL SAO FRANCISCO\n",
      "noEmpresarial                               PREFEITURA MUNICIPAL DE IGUATAMA\n",
      "natJuridica                                                                1\n",
      "natJuridicaMant                                                            1\n",
      "cnpj                                                                    None\n",
      "tpPessoa                                                                   3\n",
      "nvDependencia                                                              3\n",
      "nuAlvara                                                 SRS/VS/DIV/025/2014\n",
      "dtExpAlvara                                            2014-08-04 00:00:00.0\n",
      "orgExpAlvara                                                              1 \n",
      "dsTpUnidade                                                   HOSPITAL GERAL\n",
      "dsStpUnidade                                                            None\n",
      "noLogradouro                                                    RUA DEZENOVE\n",
      "nuEndereco                                                               155\n",
      "cep                                                                 38910000\n",
      "regionalSaude                                                             15\n",
      "bairro                                                               PIO XII\n",
      "noComplemento                                                           None\n",
      "municipio_cnes                                                        313030\n",
      "noMunicipio                                                         IGUATAMA\n",
      "uf                                                                        MG\n",
      "tpGestao                                                                   E\n",
      "nuTelefone                                                     037-3353.2400\n",
      "tpSempreAberto                                                             S\n",
      "coMotivoDesab                                                           None\n",
      "dsMotivoDesab                                                           None\n",
      "cpfDiretorCln                                                    06715212686\n",
      "nuCompDesab                                                             None\n",
      "dtCarga                                                           23/02/2021\n",
      "dtAtualizacaoOrigem                                               08/05/2002\n",
      "dtAtualizacao                                                     19/09/2019\n",
      "beds                       [{'dsAtributo': 'ESPEC - CLINICO', 'coLeito': ...\n",
      "deactivated                                                             True\n",
      "ts_run_cnes                                 2021-03-03T18:25:14.012835+00:00\n",
      "error                                                                  False\n",
      "Name: 56, dtype: object\n"
     ]
    }
   ],
   "source": [
    "with pd.option_context('display.max_rows', None, 'display.max_columns', None):\n",
    "    print(df_h[df_h.cnes == '2160498'].iloc[0])"
   ]
  },
  {
   "cell_type": "code",
   "execution_count": 54,
   "id": "nervous-madness",
   "metadata": {},
   "outputs": [
    {
     "data": {
      "text/plain": [
       "0.06894750587620789"
      ]
     },
     "execution_count": 54,
     "metadata": {},
     "output_type": "execute_result"
    }
   ],
   "source": [
    "len(df_deactivated) / len(df_h)"
   ]
  },
  {
   "cell_type": "code",
   "execution_count": 55,
   "id": "restricted-specific",
   "metadata": {},
   "outputs": [],
   "source": [
    "df_h['deactivated_proxy'] = np.where(df_h._id.isin(df_deactivated._id.unique()), True, False)"
   ]
  },
  {
   "cell_type": "code",
   "execution_count": 56,
   "id": "spanish-insert",
   "metadata": {},
   "outputs": [
    {
     "data": {
      "text/plain": [
       "True"
      ]
     },
     "execution_count": 56,
     "metadata": {},
     "output_type": "execute_result"
    }
   ],
   "source": [
    "len(df_h[df_h['deactivated_proxy'] == True]) / len(df_h) == len(df_deactivated) / len(df_h)"
   ]
  },
  {
   "cell_type": "markdown",
   "id": "removable-lunch",
   "metadata": {},
   "source": [
    "## Desatualizados por estado"
   ]
  },
  {
   "cell_type": "code",
   "execution_count": 57,
   "id": "freelance-deviation",
   "metadata": {},
   "outputs": [
    {
     "data": {
      "text/plain": [
       "<AxesSubplot:ylabel='estado'>"
      ]
     },
     "execution_count": 57,
     "metadata": {},
     "output_type": "execute_result"
    },
    {
     "data": {
      "image/png": "[encoded data removed]",
      "text/plain": [
       "<Figure size 432x648 with 1 Axes>"
      ]
     },
     "metadata": {
      "needs_background": "light"
     },
     "output_type": "display_data"
    }
   ],
   "source": [
    "df_tmp = df_h[df_h['deactivated_proxy'] == False]\n",
    "\n",
    "(df_tmp[df_tmp['updated_14d'] == False].groupby(['estado']).size() \n",
    "         / df_tmp.groupby(['estado']).size()\n",
    ").sort_values().plot.barh(figsize=(6,9))"
   ]
  },
  {
   "cell_type": "code",
   "execution_count": 58,
   "id": "chronic-macintosh",
   "metadata": {},
   "outputs": [
    {
     "data": {
      "text/plain": [
       "0.4693131365891878"
      ]
     },
     "execution_count": 58,
     "metadata": {},
     "output_type": "execute_result"
    }
   ],
   "source": [
    "len(df_h[df_h.has_uti_proxy == True]) / len(df_h)"
   ]
  },
  {
   "cell_type": "code",
   "execution_count": 59,
   "id": "religious-vision",
   "metadata": {},
   "outputs": [
    {
     "data": {
      "text/plain": [
       "<AxesSubplot:ylabel='estado'>"
      ]
     },
     "execution_count": 59,
     "metadata": {},
     "output_type": "execute_result"
    },
    {
     "data": {
      "image/png": "[encoded data removed]",
      "text/plain": [
       "<Figure size 432x648 with 1 Axes>"
      ]
     },
     "metadata": {
      "needs_background": "light"
     },
     "output_type": "display_data"
    }
   ],
   "source": [
    "df_tmp = df_h[(df_h['deactivated_proxy'] == False) & (df_h.has_uti_proxy == True)]\n",
    "\n",
    "(df_tmp[df_tmp['updated_14d'] == False].groupby(['estado']).size() \n",
    "         / df_tmp.groupby(['estado']).size()\n",
    ").sort_values().plot.barh(figsize=(6,9))"
   ]
  },
  {
   "cell_type": "code",
   "execution_count": 60,
   "id": "viral-nevada",
   "metadata": {},
   "outputs": [
    {
     "data": {
      "text/plain": [
       "tpGestao\n",
       "D     485\n",
       "E     704\n",
       "M    2382\n",
       "dtype: int64"
      ]
     },
     "execution_count": 60,
     "metadata": {},
     "output_type": "execute_result"
    }
   ],
   "source": [
    "df_h.groupby(['tpGestao',]).size()"
   ]
  },
  {
   "cell_type": "code",
   "execution_count": 61,
   "id": "cross-toner",
   "metadata": {},
   "outputs": [
    {
     "data": {
      "text/plain": [
       "tpGestao  natJuridica\n",
       "D         1               155\n",
       "          2                29\n",
       "          3               301\n",
       "E         1               419\n",
       "          2                40\n",
       "          3               245\n",
       "M         1              1235\n",
       "          2               355\n",
       "          3               791\n",
       "          4                 1\n",
       "dtype: int64"
      ]
     },
     "execution_count": 61,
     "metadata": {},
     "output_type": "execute_result"
    }
   ],
   "source": [
    "df_h.groupby(['tpGestao', 'natJuridica']).size()"
   ]
  },
  {
   "cell_type": "code",
   "execution_count": 62,
   "id": "educated-realtor",
   "metadata": {},
   "outputs": [],
   "source": [
    "types_natJuridica = {\n",
    "    '1': 'ADMINISTRAÇÃO PÚBLICA',\n",
    "    '2': 'ENTIDADES EMPRESARIAIS',\n",
    "    '3': 'ENTIDADES SEM FINS LUCRATIVOS',\n",
    "    '4': 'PESSOAS FÍSICAS', # claramente um erro \n",
    "}\n",
    "\n",
    "types_tpGestao = {\n",
    "    'D': 'Dupla',\n",
    "    'E': 'Estadual',\n",
    "    'M': 'Municipal',\n",
    "}"
   ]
  },
  {
   "cell_type": "code",
   "execution_count": 63,
   "id": "registered-setup",
   "metadata": {},
   "outputs": [
    {
     "data": {
      "text/plain": [
       "<AxesSubplot:ylabel='estado'>"
      ]
     },
     "execution_count": 63,
     "metadata": {},
     "output_type": "execute_result"
    },
    {
     "data": {
      "image/png": "[encoded data removed]",
      "text/plain": [
       "<Figure size 432x648 with 1 Axes>"
      ]
     },
     "metadata": {
      "needs_background": "light"
     },
     "output_type": "display_data"
    }
   ],
   "source": [
    "df_tmp = df_h[(df_h['deactivated_proxy'] == False) & (df_h.has_uti_proxy == True) & (df_h.tpGestao == 'M')]\n",
    "\n",
    "(df_tmp[df_tmp['updated_14d'] == False].groupby(['estado']).size() \n",
    "         / df_tmp.groupby(['estado']).size()\n",
    ").sort_values().plot.barh(figsize=(6,9))"
   ]
  },
  {
   "cell_type": "code",
   "execution_count": 64,
   "id": "detected-savannah",
   "metadata": {},
   "outputs": [
    {
     "data": {
      "text/plain": [
       "<AxesSubplot:ylabel='estado,tpGestao'>"
      ]
     },
     "execution_count": 64,
     "metadata": {},
     "output_type": "execute_result"
    },
    {
     "data": {
      "image/png": "[encoded data removed]",
      "text/plain": [
       "<Figure size 432x648 with 1 Axes>"
      ]
     },
     "metadata": {
      "needs_background": "light"
     },
     "output_type": "display_data"
    }
   ],
   "source": [
    "df_tmp = df_h[(df_h['deactivated_proxy'] == False) & (df_h.has_uti_proxy == True) & (df_h.tpGestao.isin(['M', 'E']))]\n",
    "\n",
    "(df_tmp[df_tmp['updated_14d'] == False].groupby(['estado', 'tpGestao']).size() \n",
    "         / df_tmp.groupby(['estado', 'tpGestao']).size()\n",
    ").plot.barh(figsize=(6,9))"
   ]
  },
  {
   "cell_type": "code",
   "execution_count": 65,
   "id": "constant-humanitarian",
   "metadata": {},
   "outputs": [
    {
     "data": {
      "text/plain": [
       "<AxesSubplot:ylabel='tpGestao'>"
      ]
     },
     "execution_count": 65,
     "metadata": {},
     "output_type": "execute_result"
    },
    {
     "data": {
      "image/png": "[encoded data removed]",
      "text/plain": [
       "<Figure size 432x648 with 1 Axes>"
      ]
     },
     "metadata": {
      "needs_background": "light"
     },
     "output_type": "display_data"
    }
   ],
   "source": [
    "df_tmp = df_h[(df_h['deactivated_proxy'] == False) & (df_h.has_uti_proxy == True) & (df_h.tpGestao.isin(['M', 'E', 'D']))]\n",
    "\n",
    "(df_tmp[df_tmp['updated_14d'] == False].groupby(['tpGestao']).size() \n",
    "         / df_tmp.groupby(['tpGestao']).size()\n",
    ").plot.barh(figsize=(6,9))"
   ]
  },
  {
   "cell_type": "code",
   "execution_count": 66,
   "id": "hawaiian-notification",
   "metadata": {},
   "outputs": [
    {
     "data": {
      "text/html": [
       "<div>\n",
       "<style scoped>\n",
       "    .dataframe tbody tr th:only-of-type {\n",
       "        vertical-align: middle;\n",
       "    }\n",
       "\n",
       "    .dataframe tbody tr th {\n",
       "        vertical-align: top;\n",
       "    }\n",
       "\n",
       "    .dataframe thead th {\n",
       "        text-align: right;\n",
       "    }\n",
       "</style>\n",
       "<table border=\"1\" class=\"dataframe\">\n",
       "  <thead>\n",
       "    <tr style=\"text-align: right;\">\n",
       "      <th></th>\n",
       "      <th>0</th>\n",
       "    </tr>\n",
       "    <tr>\n",
       "      <th>tpGestao</th>\n",
       "      <th></th>\n",
       "    </tr>\n",
       "  </thead>\n",
       "  <tbody>\n",
       "    <tr>\n",
       "      <th>E</th>\n",
       "      <td>0.343140</td>\n",
       "    </tr>\n",
       "    <tr>\n",
       "      <th>M</th>\n",
       "      <td>0.398647</td>\n",
       "    </tr>\n",
       "  </tbody>\n",
       "</table>\n",
       "</div>"
      ],
      "text/plain": [
       "                 0\n",
       "tpGestao          \n",
       "E         0.343140\n",
       "M         0.398647"
      ]
     },
     "execution_count": 66,
     "metadata": {},
     "output_type": "execute_result"
    }
   ],
   "source": [
    "df_tmp = df_h[(df_h['deactivated_proxy'] == False) & (df_h.has_uti_proxy == True) & (df_h.tpGestao.isin(['M', 'E']))]\n",
    "\n",
    "df_tmp = (df_tmp[df_tmp['updated_14d'] == False].groupby(['estado', 'tpGestao']).size() \n",
    "         / df_tmp.groupby(['estado', 'tpGestao']).size()\n",
    ")\n",
    "\n",
    "df_tmp.reset_index().groupby(['tpGestao']).mean()"
   ]
  },
  {
   "cell_type": "markdown",
   "id": "stone-uncle",
   "metadata": {},
   "source": [
    "## Taxa de ocupação por estado"
   ]
  },
  {
   "cell_type": "code",
   "execution_count": 67,
   "id": "gothic-debut",
   "metadata": {},
   "outputs": [],
   "source": [
    "df_tmp = df_h[(df_h['deactivated_proxy'] == False) & (df_h.has_uti_proxy == True)]\n",
    "\n",
    "by_state = df_tmp.groupby('estado').agg({\n",
    "    '_id': 'count',\n",
    "    'totalOfertaUti': 'sum',\n",
    "    'totalOfertaUtiAlt': 'sum',\n",
    "    'totalOcupUti': 'sum',\n",
    "    'ofertaSRAGUti': 'sum',\n",
    "    'ocupSRAGUti': 'sum',\n",
    "    'updated_7d': 'sum',\n",
    "    'updated_14d': 'sum',\n",
    "    'updated_90d': 'sum',\n",
    "})"
   ]
  },
  {
   "cell_type": "code",
   "execution_count": 68,
   "id": "detailed-dialogue",
   "metadata": {},
   "outputs": [
    {
     "data": {
      "text/plain": [
       "<matplotlib.lines.Line2D at 0x7fca170badf0>"
      ]
     },
     "execution_count": 68,
     "metadata": {},
     "output_type": "execute_result"
    },
    {
     "data": {
      "image/png": "[encoded data removed]",
      "text/plain": [
       "<Figure size 432x648 with 1 Axes>"
      ]
     },
     "metadata": {
      "needs_background": "light"
     },
     "output_type": "display_data"
    }
   ],
   "source": [
    "by_state['pct_occupied'] = by_state['totalOcupUti'] / by_state['totalOfertaUti']\n",
    "by_state[by_state['pct_occupied'] < 10]['pct_occupied'].sort_values().plot.barh(figsize=(6,9)).axvline(1)"
   ]
  },
  {
   "cell_type": "code",
   "execution_count": 69,
   "id": "surrounded-sunrise",
   "metadata": {},
   "outputs": [
    {
     "data": {
      "text/plain": [
       "<matplotlib.lines.Line2D at 0x7fca17130b80>"
      ]
     },
     "execution_count": 69,
     "metadata": {},
     "output_type": "execute_result"
    },
    {
     "data": {
      "image/png": "[encoded data removed]",
      "text/plain": [
       "<Figure size 432x648 with 1 Axes>"
      ]
     },
     "metadata": {
      "needs_background": "light"
     },
     "output_type": "display_data"
    }
   ],
   "source": [
    "by_state['pct_occupied_alt'] = by_state['totalOcupUti'] / by_state['totalOfertaUtiAlt']\n",
    "by_state[by_state['pct_occupied_alt'] < 10]['pct_occupied_alt'].sort_values().plot.barh(figsize=(6,9)).axvline(1)"
   ]
  },
  {
   "cell_type": "code",
   "execution_count": 70,
   "id": "reflected-education",
   "metadata": {},
   "outputs": [
    {
     "data": {
      "text/plain": [
       "<matplotlib.lines.Line2D at 0x7fca0cafe730>"
      ]
     },
     "execution_count": 70,
     "metadata": {},
     "output_type": "execute_result"
    },
    {
     "data": {
      "image/png": "[encoded data removed]",
      "text/plain": [
       "<Figure size 432x648 with 1 Axes>"
      ]
     },
     "metadata": {
      "needs_background": "light"
     },
     "output_type": "display_data"
    }
   ],
   "source": [
    "by_state['pct_occupied_srag'] = by_state['ocupSRAGUti'] / by_state['ofertaSRAGUti']\n",
    "by_state[by_state['pct_occupied_srag'] < 10]['pct_occupied_srag'].sort_values().plot.barh(figsize=(6,9)).axvline(1)"
   ]
  },
  {
   "cell_type": "code",
   "execution_count": 71,
   "id": "utility-working",
   "metadata": {},
   "outputs": [
    {
     "data": {
      "text/html": [
       "<div>\n",
       "<style scoped>\n",
       "    .dataframe tbody tr th:only-of-type {\n",
       "        vertical-align: middle;\n",
       "    }\n",
       "\n",
       "    .dataframe tbody tr th {\n",
       "        vertical-align: top;\n",
       "    }\n",
       "\n",
       "    .dataframe thead th {\n",
       "        text-align: right;\n",
       "    }\n",
       "</style>\n",
       "<table border=\"1\" class=\"dataframe\">\n",
       "  <thead>\n",
       "    <tr style=\"text-align: right;\">\n",
       "      <th></th>\n",
       "      <th>_id</th>\n",
       "      <th>totalOfertaUti</th>\n",
       "      <th>totalOfertaUtiAlt</th>\n",
       "      <th>totalOcupUti</th>\n",
       "      <th>ofertaSRAGUti</th>\n",
       "      <th>ocupSRAGUti</th>\n",
       "      <th>updated_7d</th>\n",
       "      <th>updated_14d</th>\n",
       "      <th>updated_90d</th>\n",
       "      <th>pct_occupied</th>\n",
       "      <th>pct_occupied_alt</th>\n",
       "      <th>pct_occupied_srag</th>\n",
       "    </tr>\n",
       "    <tr>\n",
       "      <th>estado</th>\n",
       "      <th></th>\n",
       "      <th></th>\n",
       "      <th></th>\n",
       "      <th></th>\n",
       "      <th></th>\n",
       "      <th></th>\n",
       "      <th></th>\n",
       "      <th></th>\n",
       "      <th></th>\n",
       "      <th></th>\n",
       "      <th></th>\n",
       "      <th></th>\n",
       "    </tr>\n",
       "  </thead>\n",
       "  <tbody>\n",
       "    <tr>\n",
       "      <th>Acre</th>\n",
       "      <td>2</td>\n",
       "      <td>76.0</td>\n",
       "      <td>187.0</td>\n",
       "      <td>111.0</td>\n",
       "      <td>50.0</td>\n",
       "      <td>97</td>\n",
       "      <td>1</td>\n",
       "      <td>1</td>\n",
       "      <td>2</td>\n",
       "      <td>1.460526</td>\n",
       "      <td>0.593583</td>\n",
       "      <td>1.940000</td>\n",
       "    </tr>\n",
       "    <tr>\n",
       "      <th>Alagoas</th>\n",
       "      <td>17</td>\n",
       "      <td>439.0</td>\n",
       "      <td>960.0</td>\n",
       "      <td>521.0</td>\n",
       "      <td>255.0</td>\n",
       "      <td>229</td>\n",
       "      <td>9</td>\n",
       "      <td>9</td>\n",
       "      <td>14</td>\n",
       "      <td>1.186788</td>\n",
       "      <td>0.542708</td>\n",
       "      <td>0.898039</td>\n",
       "    </tr>\n",
       "    <tr>\n",
       "      <th>Amapá</th>\n",
       "      <td>7</td>\n",
       "      <td>16.0</td>\n",
       "      <td>277.0</td>\n",
       "      <td>261.0</td>\n",
       "      <td>6.0</td>\n",
       "      <td>159</td>\n",
       "      <td>4</td>\n",
       "      <td>4</td>\n",
       "      <td>5</td>\n",
       "      <td>16.312500</td>\n",
       "      <td>0.942238</td>\n",
       "      <td>26.500000</td>\n",
       "    </tr>\n",
       "    <tr>\n",
       "      <th>Amazonas</th>\n",
       "      <td>25</td>\n",
       "      <td>496.0</td>\n",
       "      <td>1194.0</td>\n",
       "      <td>698.0</td>\n",
       "      <td>247.0</td>\n",
       "      <td>295</td>\n",
       "      <td>12</td>\n",
       "      <td>14</td>\n",
       "      <td>21</td>\n",
       "      <td>1.407258</td>\n",
       "      <td>0.584590</td>\n",
       "      <td>1.194332</td>\n",
       "    </tr>\n",
       "    <tr>\n",
       "      <th>Bahia</th>\n",
       "      <td>76</td>\n",
       "      <td>1881.0</td>\n",
       "      <td>4099.0</td>\n",
       "      <td>2218.0</td>\n",
       "      <td>1051.0</td>\n",
       "      <td>886</td>\n",
       "      <td>30</td>\n",
       "      <td>32</td>\n",
       "      <td>46</td>\n",
       "      <td>1.179160</td>\n",
       "      <td>0.541108</td>\n",
       "      <td>0.843007</td>\n",
       "    </tr>\n",
       "    <tr>\n",
       "      <th>Ceará</th>\n",
       "      <td>60</td>\n",
       "      <td>1536.0</td>\n",
       "      <td>3836.0</td>\n",
       "      <td>2300.0</td>\n",
       "      <td>858.0</td>\n",
       "      <td>1023</td>\n",
       "      <td>27</td>\n",
       "      <td>27</td>\n",
       "      <td>30</td>\n",
       "      <td>1.497396</td>\n",
       "      <td>0.599583</td>\n",
       "      <td>1.192308</td>\n",
       "    </tr>\n",
       "    <tr>\n",
       "      <th>Distrito Federal</th>\n",
       "      <td>17</td>\n",
       "      <td>687.0</td>\n",
       "      <td>1257.0</td>\n",
       "      <td>570.0</td>\n",
       "      <td>366.0</td>\n",
       "      <td>219</td>\n",
       "      <td>7</td>\n",
       "      <td>8</td>\n",
       "      <td>12</td>\n",
       "      <td>0.829694</td>\n",
       "      <td>0.453461</td>\n",
       "      <td>0.598361</td>\n",
       "    </tr>\n",
       "    <tr>\n",
       "      <th>Espírito Santo</th>\n",
       "      <td>30</td>\n",
       "      <td>1059.0</td>\n",
       "      <td>2363.0</td>\n",
       "      <td>1304.0</td>\n",
       "      <td>692.0</td>\n",
       "      <td>573</td>\n",
       "      <td>18</td>\n",
       "      <td>19</td>\n",
       "      <td>22</td>\n",
       "      <td>1.231350</td>\n",
       "      <td>0.551841</td>\n",
       "      <td>0.828035</td>\n",
       "    </tr>\n",
       "    <tr>\n",
       "      <th>Goiás</th>\n",
       "      <td>116</td>\n",
       "      <td>1451.0</td>\n",
       "      <td>4821.0</td>\n",
       "      <td>3370.0</td>\n",
       "      <td>471.0</td>\n",
       "      <td>1491</td>\n",
       "      <td>105</td>\n",
       "      <td>107</td>\n",
       "      <td>109</td>\n",
       "      <td>2.322536</td>\n",
       "      <td>0.699025</td>\n",
       "      <td>3.165605</td>\n",
       "    </tr>\n",
       "    <tr>\n",
       "      <th>Maranhão</th>\n",
       "      <td>43</td>\n",
       "      <td>721.0</td>\n",
       "      <td>1507.0</td>\n",
       "      <td>786.0</td>\n",
       "      <td>475.0</td>\n",
       "      <td>370</td>\n",
       "      <td>28</td>\n",
       "      <td>29</td>\n",
       "      <td>33</td>\n",
       "      <td>1.090153</td>\n",
       "      <td>0.521566</td>\n",
       "      <td>0.778947</td>\n",
       "    </tr>\n",
       "    <tr>\n",
       "      <th>Mato Grosso</th>\n",
       "      <td>55</td>\n",
       "      <td>672.0</td>\n",
       "      <td>1429.0</td>\n",
       "      <td>757.0</td>\n",
       "      <td>241.0</td>\n",
       "      <td>617</td>\n",
       "      <td>53</td>\n",
       "      <td>53</td>\n",
       "      <td>54</td>\n",
       "      <td>1.126488</td>\n",
       "      <td>0.529741</td>\n",
       "      <td>2.560166</td>\n",
       "    </tr>\n",
       "    <tr>\n",
       "      <th>Mato Grosso do Sul</th>\n",
       "      <td>33</td>\n",
       "      <td>550.0</td>\n",
       "      <td>1723.0</td>\n",
       "      <td>1173.0</td>\n",
       "      <td>259.0</td>\n",
       "      <td>401</td>\n",
       "      <td>31</td>\n",
       "      <td>32</td>\n",
       "      <td>33</td>\n",
       "      <td>2.132727</td>\n",
       "      <td>0.680789</td>\n",
       "      <td>1.548263</td>\n",
       "    </tr>\n",
       "    <tr>\n",
       "      <th>Minas Gerais</th>\n",
       "      <td>197</td>\n",
       "      <td>4158.0</td>\n",
       "      <td>9662.0</td>\n",
       "      <td>5504.0</td>\n",
       "      <td>1729.0</td>\n",
       "      <td>2169</td>\n",
       "      <td>171</td>\n",
       "      <td>176</td>\n",
       "      <td>186</td>\n",
       "      <td>1.323713</td>\n",
       "      <td>0.569654</td>\n",
       "      <td>1.254482</td>\n",
       "    </tr>\n",
       "    <tr>\n",
       "      <th>Paraná</th>\n",
       "      <td>81</td>\n",
       "      <td>2381.0</td>\n",
       "      <td>5192.0</td>\n",
       "      <td>2811.0</td>\n",
       "      <td>989.0</td>\n",
       "      <td>1349</td>\n",
       "      <td>55</td>\n",
       "      <td>60</td>\n",
       "      <td>70</td>\n",
       "      <td>1.180596</td>\n",
       "      <td>0.541410</td>\n",
       "      <td>1.364004</td>\n",
       "    </tr>\n",
       "    <tr>\n",
       "      <th>Paraíba</th>\n",
       "      <td>19</td>\n",
       "      <td>491.0</td>\n",
       "      <td>950.0</td>\n",
       "      <td>459.0</td>\n",
       "      <td>259.0</td>\n",
       "      <td>220</td>\n",
       "      <td>7</td>\n",
       "      <td>10</td>\n",
       "      <td>11</td>\n",
       "      <td>0.934827</td>\n",
       "      <td>0.483158</td>\n",
       "      <td>0.849421</td>\n",
       "    </tr>\n",
       "    <tr>\n",
       "      <th>Pará</th>\n",
       "      <td>31</td>\n",
       "      <td>882.0</td>\n",
       "      <td>1669.0</td>\n",
       "      <td>787.0</td>\n",
       "      <td>548.0</td>\n",
       "      <td>284</td>\n",
       "      <td>6</td>\n",
       "      <td>9</td>\n",
       "      <td>12</td>\n",
       "      <td>0.892290</td>\n",
       "      <td>0.471540</td>\n",
       "      <td>0.518248</td>\n",
       "    </tr>\n",
       "    <tr>\n",
       "      <th>Pernambuco</th>\n",
       "      <td>53</td>\n",
       "      <td>1794.0</td>\n",
       "      <td>3771.0</td>\n",
       "      <td>1977.0</td>\n",
       "      <td>1067.0</td>\n",
       "      <td>911</td>\n",
       "      <td>30</td>\n",
       "      <td>33</td>\n",
       "      <td>41</td>\n",
       "      <td>1.102007</td>\n",
       "      <td>0.524264</td>\n",
       "      <td>0.853796</td>\n",
       "    </tr>\n",
       "    <tr>\n",
       "      <th>Piauí</th>\n",
       "      <td>16</td>\n",
       "      <td>372.0</td>\n",
       "      <td>781.0</td>\n",
       "      <td>409.0</td>\n",
       "      <td>253.0</td>\n",
       "      <td>194</td>\n",
       "      <td>11</td>\n",
       "      <td>13</td>\n",
       "      <td>15</td>\n",
       "      <td>1.099462</td>\n",
       "      <td>0.523688</td>\n",
       "      <td>0.766798</td>\n",
       "    </tr>\n",
       "    <tr>\n",
       "      <th>Rio Grande do Norte</th>\n",
       "      <td>42</td>\n",
       "      <td>573.0</td>\n",
       "      <td>1100.0</td>\n",
       "      <td>527.0</td>\n",
       "      <td>250.0</td>\n",
       "      <td>391</td>\n",
       "      <td>38</td>\n",
       "      <td>38</td>\n",
       "      <td>39</td>\n",
       "      <td>0.919721</td>\n",
       "      <td>0.479091</td>\n",
       "      <td>1.564000</td>\n",
       "    </tr>\n",
       "    <tr>\n",
       "      <th>Rio Grande do Sul</th>\n",
       "      <td>120</td>\n",
       "      <td>2249.0</td>\n",
       "      <td>7818.0</td>\n",
       "      <td>5569.0</td>\n",
       "      <td>788.0</td>\n",
       "      <td>2389</td>\n",
       "      <td>117</td>\n",
       "      <td>117</td>\n",
       "      <td>117</td>\n",
       "      <td>2.476212</td>\n",
       "      <td>0.712331</td>\n",
       "      <td>3.031726</td>\n",
       "    </tr>\n",
       "    <tr>\n",
       "      <th>Rio de Janeiro</th>\n",
       "      <td>127</td>\n",
       "      <td>2749.0</td>\n",
       "      <td>5950.0</td>\n",
       "      <td>3201.0</td>\n",
       "      <td>1426.0</td>\n",
       "      <td>1226</td>\n",
       "      <td>65</td>\n",
       "      <td>71</td>\n",
       "      <td>100</td>\n",
       "      <td>1.164423</td>\n",
       "      <td>0.537983</td>\n",
       "      <td>0.859748</td>\n",
       "    </tr>\n",
       "    <tr>\n",
       "      <th>Rondônia</th>\n",
       "      <td>18</td>\n",
       "      <td>238.0</td>\n",
       "      <td>777.0</td>\n",
       "      <td>539.0</td>\n",
       "      <td>130.0</td>\n",
       "      <td>277</td>\n",
       "      <td>12</td>\n",
       "      <td>12</td>\n",
       "      <td>14</td>\n",
       "      <td>2.264706</td>\n",
       "      <td>0.693694</td>\n",
       "      <td>2.130769</td>\n",
       "    </tr>\n",
       "    <tr>\n",
       "      <th>Roraima</th>\n",
       "      <td>5</td>\n",
       "      <td>81.0</td>\n",
       "      <td>236.0</td>\n",
       "      <td>155.0</td>\n",
       "      <td>44.0</td>\n",
       "      <td>91</td>\n",
       "      <td>1</td>\n",
       "      <td>1</td>\n",
       "      <td>2</td>\n",
       "      <td>1.913580</td>\n",
       "      <td>0.656780</td>\n",
       "      <td>2.068182</td>\n",
       "    </tr>\n",
       "    <tr>\n",
       "      <th>Santa Catarina</th>\n",
       "      <td>55</td>\n",
       "      <td>1241.0</td>\n",
       "      <td>3492.0</td>\n",
       "      <td>2251.0</td>\n",
       "      <td>576.0</td>\n",
       "      <td>1041</td>\n",
       "      <td>48</td>\n",
       "      <td>53</td>\n",
       "      <td>54</td>\n",
       "      <td>1.813860</td>\n",
       "      <td>0.644616</td>\n",
       "      <td>1.807292</td>\n",
       "    </tr>\n",
       "    <tr>\n",
       "      <th>Sergipe</th>\n",
       "      <td>20</td>\n",
       "      <td>404.0</td>\n",
       "      <td>931.0</td>\n",
       "      <td>527.0</td>\n",
       "      <td>221.0</td>\n",
       "      <td>194</td>\n",
       "      <td>12</td>\n",
       "      <td>12</td>\n",
       "      <td>15</td>\n",
       "      <td>1.304455</td>\n",
       "      <td>0.566058</td>\n",
       "      <td>0.877828</td>\n",
       "    </tr>\n",
       "    <tr>\n",
       "      <th>São Paulo</th>\n",
       "      <td>393</td>\n",
       "      <td>11667.0</td>\n",
       "      <td>20273.0</td>\n",
       "      <td>8606.0</td>\n",
       "      <td>5933.0</td>\n",
       "      <td>6584</td>\n",
       "      <td>359</td>\n",
       "      <td>360</td>\n",
       "      <td>365</td>\n",
       "      <td>0.737636</td>\n",
       "      <td>0.424505</td>\n",
       "      <td>1.109725</td>\n",
       "    </tr>\n",
       "    <tr>\n",
       "      <th>Tocantins</th>\n",
       "      <td>13</td>\n",
       "      <td>221.0</td>\n",
       "      <td>592.0</td>\n",
       "      <td>371.0</td>\n",
       "      <td>83.0</td>\n",
       "      <td>147</td>\n",
       "      <td>9</td>\n",
       "      <td>10</td>\n",
       "      <td>12</td>\n",
       "      <td>1.678733</td>\n",
       "      <td>0.626689</td>\n",
       "      <td>1.771084</td>\n",
       "    </tr>\n",
       "  </tbody>\n",
       "</table>\n",
       "</div>"
      ],
      "text/plain": [
       "                     _id  totalOfertaUti  totalOfertaUtiAlt  totalOcupUti  \\\n",
       "estado                                                                      \n",
       "Acre                   2            76.0              187.0         111.0   \n",
       "Alagoas               17           439.0              960.0         521.0   \n",
       "Amapá                  7            16.0              277.0         261.0   \n",
       "Amazonas              25           496.0             1194.0         698.0   \n",
       "Bahia                 76          1881.0             4099.0        2218.0   \n",
       "Ceará                 60          1536.0             3836.0        2300.0   \n",
       "Distrito Federal      17           687.0             1257.0         570.0   \n",
       "Espírito Santo        30          1059.0             2363.0        1304.0   \n",
       "Goiás                116          1451.0             4821.0        3370.0   \n",
       "Maranhão              43           721.0             1507.0         786.0   \n",
       "Mato Grosso           55           672.0             1429.0         757.0   \n",
       "Mato Grosso do Sul    33           550.0             1723.0        1173.0   \n",
       "Minas Gerais         197          4158.0             9662.0        5504.0   \n",
       "Paraná                81          2381.0             5192.0        2811.0   \n",
       "Paraíba               19           491.0              950.0         459.0   \n",
       "Pará                  31           882.0             1669.0         787.0   \n",
       "Pernambuco            53          1794.0             3771.0        1977.0   \n",
       "Piauí                 16           372.0              781.0         409.0   \n",
       "Rio Grande do Norte   42           573.0             1100.0         527.0   \n",
       "Rio Grande do Sul    120          2249.0             7818.0        5569.0   \n",
       "Rio de Janeiro       127          2749.0             5950.0        3201.0   \n",
       "Rondônia              18           238.0              777.0         539.0   \n",
       "Roraima                5            81.0              236.0         155.0   \n",
       "Santa Catarina        55          1241.0             3492.0        2251.0   \n",
       "Sergipe               20           404.0              931.0         527.0   \n",
       "São Paulo            393         11667.0            20273.0        8606.0   \n",
       "Tocantins             13           221.0              592.0         371.0   \n",
       "\n",
       "                     ofertaSRAGUti  ocupSRAGUti  updated_7d  updated_14d  \\\n",
       "estado                                                                     \n",
       "Acre                          50.0           97           1            1   \n",
       "Alagoas                      255.0          229           9            9   \n",
       "Amapá                          6.0          159           4            4   \n",
       "Amazonas                     247.0          295          12           14   \n",
       "Bahia                       1051.0          886          30           32   \n",
       "Ceará                        858.0         1023          27           27   \n",
       "Distrito Federal             366.0          219           7            8   \n",
       "Espírito Santo               692.0          573          18           19   \n",
       "Goiás                        471.0         1491         105          107   \n",
       "Maranhão                     475.0          370          28           29   \n",
       "Mato Grosso                  241.0          617          53           53   \n",
       "Mato Grosso do Sul           259.0          401          31           32   \n",
       "Minas Gerais                1729.0         2169         171          176   \n",
       "Paraná                       989.0         1349          55           60   \n",
       "Paraíba                      259.0          220           7           10   \n",
       "Pará                         548.0          284           6            9   \n",
       "Pernambuco                  1067.0          911          30           33   \n",
       "Piauí                        253.0          194          11           13   \n",
       "Rio Grande do Norte          250.0          391          38           38   \n",
       "Rio Grande do Sul            788.0         2389         117          117   \n",
       "Rio de Janeiro              1426.0         1226          65           71   \n",
       "Rondônia                     130.0          277          12           12   \n",
       "Roraima                       44.0           91           1            1   \n",
       "Santa Catarina               576.0         1041          48           53   \n",
       "Sergipe                      221.0          194          12           12   \n",
       "São Paulo                   5933.0         6584         359          360   \n",
       "Tocantins                     83.0          147           9           10   \n",
       "\n",
       "                     updated_90d  pct_occupied  pct_occupied_alt  \\\n",
       "estado                                                             \n",
       "Acre                           2      1.460526          0.593583   \n",
       "Alagoas                       14      1.186788          0.542708   \n",
       "Amapá                          5     16.312500          0.942238   \n",
       "Amazonas                      21      1.407258          0.584590   \n",
       "Bahia                         46      1.179160          0.541108   \n",
       "Ceará                         30      1.497396          0.599583   \n",
       "Distrito Federal              12      0.829694          0.453461   \n",
       "Espírito Santo                22      1.231350          0.551841   \n",
       "Goiás                        109      2.322536          0.699025   \n",
       "Maranhão                      33      1.090153          0.521566   \n",
       "Mato Grosso                   54      1.126488          0.529741   \n",
       "Mato Grosso do Sul            33      2.132727          0.680789   \n",
       "Minas Gerais                 186      1.323713          0.569654   \n",
       "Paraná                        70      1.180596          0.541410   \n",
       "Paraíba                       11      0.934827          0.483158   \n",
       "Pará                          12      0.892290          0.471540   \n",
       "Pernambuco                    41      1.102007          0.524264   \n",
       "Piauí                         15      1.099462          0.523688   \n",
       "Rio Grande do Norte           39      0.919721          0.479091   \n",
       "Rio Grande do Sul            117      2.476212          0.712331   \n",
       "Rio de Janeiro               100      1.164423          0.537983   \n",
       "Rondônia                      14      2.264706          0.693694   \n",
       "Roraima                        2      1.913580          0.656780   \n",
       "Santa Catarina                54      1.813860          0.644616   \n",
       "Sergipe                       15      1.304455          0.566058   \n",
       "São Paulo                    365      0.737636          0.424505   \n",
       "Tocantins                     12      1.678733          0.626689   \n",
       "\n",
       "                     pct_occupied_srag  \n",
       "estado                                  \n",
       "Acre                          1.940000  \n",
       "Alagoas                       0.898039  \n",
       "Amapá                        26.500000  \n",
       "Amazonas                      1.194332  \n",
       "Bahia                         0.843007  \n",
       "Ceará                         1.192308  \n",
       "Distrito Federal              0.598361  \n",
       "Espírito Santo                0.828035  \n",
       "Goiás                         3.165605  \n",
       "Maranhão                      0.778947  \n",
       "Mato Grosso                   2.560166  \n",
       "Mato Grosso do Sul            1.548263  \n",
       "Minas Gerais                  1.254482  \n",
       "Paraná                        1.364004  \n",
       "Paraíba                       0.849421  \n",
       "Pará                          0.518248  \n",
       "Pernambuco                    0.853796  \n",
       "Piauí                         0.766798  \n",
       "Rio Grande do Norte           1.564000  \n",
       "Rio Grande do Sul             3.031726  \n",
       "Rio de Janeiro                0.859748  \n",
       "Rondônia                      2.130769  \n",
       "Roraima                       2.068182  \n",
       "Santa Catarina                1.807292  \n",
       "Sergipe                       0.877828  \n",
       "São Paulo                     1.109725  \n",
       "Tocantins                     1.771084  "
      ]
     },
     "execution_count": 71,
     "metadata": {},
     "output_type": "execute_result"
    }
   ],
   "source": [
    "by_state"
   ]
  },
  {
   "cell_type": "markdown",
   "id": "contrary-yemen",
   "metadata": {},
   "source": [
    "## Leitos CNES"
   ]
  },
  {
   "cell_type": "code",
   "execution_count": 72,
   "id": "double-grocery",
   "metadata": {},
   "outputs": [],
   "source": [
    "all_beds = []\n",
    "for index, row in df_h[df_h['beds'].notna()].iterrows():\n",
    "    beds = row['beds']\n",
    "    for bed in beds:\n",
    "        bed['cnes'] = row['cnes']\n",
    "        all_beds.append(bed)"
   ]
  },
  {
   "cell_type": "code",
   "execution_count": 73,
   "id": "comfortable-mainstream",
   "metadata": {},
   "outputs": [
    {
     "data": {
      "text/html": [
       "<div>\n",
       "<style scoped>\n",
       "    .dataframe tbody tr th:only-of-type {\n",
       "        vertical-align: middle;\n",
       "    }\n",
       "\n",
       "    .dataframe tbody tr th {\n",
       "        vertical-align: top;\n",
       "    }\n",
       "\n",
       "    .dataframe thead th {\n",
       "        text-align: right;\n",
       "    }\n",
       "</style>\n",
       "<table border=\"1\" class=\"dataframe\">\n",
       "  <thead>\n",
       "    <tr style=\"text-align: right;\">\n",
       "      <th></th>\n",
       "      <th>dsAtributo</th>\n",
       "      <th>coLeito</th>\n",
       "      <th>dsLeito</th>\n",
       "      <th>qtExistente</th>\n",
       "      <th>qtSus</th>\n",
       "      <th>cnes</th>\n",
       "    </tr>\n",
       "  </thead>\n",
       "  <tbody>\n",
       "    <tr>\n",
       "      <th>0</th>\n",
       "      <td>ESPEC - CIRURGICO</td>\n",
       "      <td>03</td>\n",
       "      <td>CIRURGIA GERAL</td>\n",
       "      <td>3</td>\n",
       "      <td>1</td>\n",
       "      <td>2249626</td>\n",
       "    </tr>\n",
       "    <tr>\n",
       "      <th>1</th>\n",
       "      <td>ESPEC - CIRURGICO</td>\n",
       "      <td>06</td>\n",
       "      <td>GINECOLOGIA</td>\n",
       "      <td>1</td>\n",
       "      <td>1</td>\n",
       "      <td>2249626</td>\n",
       "    </tr>\n",
       "    <tr>\n",
       "      <th>2</th>\n",
       "      <td>ESPEC - CLINICO</td>\n",
       "      <td>32</td>\n",
       "      <td>CARDIOLOGIA</td>\n",
       "      <td>2</td>\n",
       "      <td>1</td>\n",
       "      <td>2249626</td>\n",
       "    </tr>\n",
       "    <tr>\n",
       "      <th>3</th>\n",
       "      <td>ESPEC - CLINICO</td>\n",
       "      <td>33</td>\n",
       "      <td>CLINICA GERAL</td>\n",
       "      <td>23</td>\n",
       "      <td>10</td>\n",
       "      <td>2249626</td>\n",
       "    </tr>\n",
       "    <tr>\n",
       "      <th>4</th>\n",
       "      <td>OBSTETRICO</td>\n",
       "      <td>10</td>\n",
       "      <td>OBSTETRICIA CIRURGICA</td>\n",
       "      <td>1</td>\n",
       "      <td>1</td>\n",
       "      <td>2249626</td>\n",
       "    </tr>\n",
       "  </tbody>\n",
       "</table>\n",
       "</div>"
      ],
      "text/plain": [
       "          dsAtributo coLeito                dsLeito qtExistente qtSus     cnes\n",
       "0  ESPEC - CIRURGICO      03         CIRURGIA GERAL           3     1  2249626\n",
       "1  ESPEC - CIRURGICO      06            GINECOLOGIA           1     1  2249626\n",
       "2    ESPEC - CLINICO      32            CARDIOLOGIA           2     1  2249626\n",
       "3    ESPEC - CLINICO      33          CLINICA GERAL          23    10  2249626\n",
       "4         OBSTETRICO      10  OBSTETRICIA CIRURGICA           1     1  2249626"
      ]
     },
     "execution_count": 73,
     "metadata": {},
     "output_type": "execute_result"
    }
   ],
   "source": [
    "df_beds = pd.DataFrame(all_beds)\n",
    "df_beds.head()"
   ]
  },
  {
   "cell_type": "code",
   "execution_count": 74,
   "id": "increasing-denver",
   "metadata": {},
   "outputs": [],
   "source": [
    "df_beds['total_beds'] = df_beds['qtExistente'].astype(float)"
   ]
  },
  {
   "cell_type": "code",
   "execution_count": 75,
   "id": "valued-threat",
   "metadata": {},
   "outputs": [
    {
     "name": "stdout",
     "output_type": "stream",
     "text": [
      "dsLeito                                                       dsAtributo  \n",
      "UTI II ADULTO-SINDROME RESP. AGUDA GRAVE (SRAG)-COVID-19      COMPLEMENTAR    20263.0\n",
      "UTI ADULTO - TIPO II                                          COMPLEMENTAR    15735.0\n",
      "UTI NEONATAL - TIPO II                                        COMPLEMENTAR     4896.0\n",
      "UTI ADULTO - TIPO III                                         COMPLEMENTAR     3540.0\n",
      "UTI PEDIATRICA - TIPO II                                      COMPLEMENTAR     2336.0\n",
      "UTI ADULTO - TIPO I                                           COMPLEMENTAR     1856.0\n",
      "UTI NEONATAL - TIPO III                                       COMPLEMENTAR      882.0\n",
      "UTI PEDIATRICA - TIPO III                                     COMPLEMENTAR      784.0\n",
      "UTI II PEDIATRICA-SINDROME RESP. AGUDA GRAVE (SRAG)-COVID-19  COMPLEMENTAR      609.0\n",
      "UTI CORONARIANA TIPO II - UCO TIPO II                         COMPLEMENTAR      540.0\n",
      "UTI NEONATAL - TIPO I                                         COMPLEMENTAR      383.0\n",
      "UTI PEDIATRICA - TIPO I                                       COMPLEMENTAR      263.0\n",
      "UTI DE QUEIMADOS                                              COMPLEMENTAR      206.0\n",
      "UTI CORONARIANA TIPO III - UCO TIPO III                       COMPLEMENTAR       90.0\n",
      "Name: total_beds, dtype: float64\n"
     ]
    }
   ],
   "source": [
    "with pd.option_context('display.max_rows', None, 'display.max_columns', None):\n",
    "    print(df_beds[df_beds.dsLeito.str[0:3] == 'UTI'].groupby(['dsLeito', 'dsAtributo']).total_beds.sum().sort_values(ascending=False))"
   ]
  },
  {
   "cell_type": "markdown",
   "id": "isolated-removal",
   "metadata": {},
   "source": [
    "### Leitos tipo UTI"
   ]
  },
  {
   "cell_type": "code",
   "execution_count": 76,
   "id": "copyrighted-jason",
   "metadata": {},
   "outputs": [],
   "source": [
    "df_beds['uti'] = np.where(df_beds.dsLeito.str[0:3] == 'UTI', np.where(df_beds.dsLeito.str.contains('NEONATAL|QUEIMADOS') == False, True, False), False)"
   ]
  },
  {
   "cell_type": "code",
   "execution_count": 77,
   "id": "hollywood-looking",
   "metadata": {},
   "outputs": [
    {
     "name": "stdout",
     "output_type": "stream",
     "text": [
      "dsLeito                                                       dsAtributo    uti  \n",
      "UTI II ADULTO-SINDROME RESP. AGUDA GRAVE (SRAG)-COVID-19      COMPLEMENTAR  True     1065\n",
      "UTI ADULTO - TIPO II                                          COMPLEMENTAR  True      982\n",
      "UTI NEONATAL - TIPO II                                        COMPLEMENTAR  False     433\n",
      "UTI PEDIATRICA - TIPO II                                      COMPLEMENTAR  True      300\n",
      "UTI ADULTO - TIPO I                                           COMPLEMENTAR  True      161\n",
      "UTI ADULTO - TIPO III                                         COMPLEMENTAR  True      118\n",
      "UTI II PEDIATRICA-SINDROME RESP. AGUDA GRAVE (SRAG)-COVID-19  COMPLEMENTAR  True       97\n",
      "UTI PEDIATRICA - TIPO III                                     COMPLEMENTAR  True       71\n",
      "UTI NEONATAL - TIPO III                                       COMPLEMENTAR  False      68\n",
      "UTI CORONARIANA TIPO II - UCO TIPO II                         COMPLEMENTAR  True       58\n",
      "UTI NEONATAL - TIPO I                                         COMPLEMENTAR  False      48\n",
      "UTI PEDIATRICA - TIPO I                                       COMPLEMENTAR  True       43\n",
      "UTI DE QUEIMADOS                                              COMPLEMENTAR  False      42\n",
      "UTI CORONARIANA TIPO III - UCO TIPO III                       COMPLEMENTAR  True       10\n",
      "dtype: int64\n"
     ]
    }
   ],
   "source": [
    "with pd.option_context('display.max_rows', None, 'display.max_columns', None):\n",
    "    print(df_beds[df_beds.dsLeito.str[0:3] == 'UTI'].groupby(['dsLeito', 'dsAtributo', 'uti']).size().sort_values(ascending=False))"
   ]
  },
  {
   "cell_type": "code",
   "execution_count": 78,
   "id": "beneficial-asthma",
   "metadata": {},
   "outputs": [
    {
     "data": {
      "text/html": [
       "<div>\n",
       "<style scoped>\n",
       "    .dataframe tbody tr th:only-of-type {\n",
       "        vertical-align: middle;\n",
       "    }\n",
       "\n",
       "    .dataframe tbody tr th {\n",
       "        vertical-align: top;\n",
       "    }\n",
       "\n",
       "    .dataframe thead th {\n",
       "        text-align: right;\n",
       "    }\n",
       "</style>\n",
       "<table border=\"1\" class=\"dataframe\">\n",
       "  <thead>\n",
       "    <tr style=\"text-align: right;\">\n",
       "      <th></th>\n",
       "      <th>cnes</th>\n",
       "      <th>uti_beds_via_cnes</th>\n",
       "    </tr>\n",
       "  </thead>\n",
       "  <tbody>\n",
       "    <tr>\n",
       "      <th>0</th>\n",
       "      <td>0000396</td>\n",
       "      <td>10.0</td>\n",
       "    </tr>\n",
       "    <tr>\n",
       "      <th>1</th>\n",
       "      <td>0000418</td>\n",
       "      <td>70.0</td>\n",
       "    </tr>\n",
       "    <tr>\n",
       "      <th>2</th>\n",
       "      <td>0000426</td>\n",
       "      <td>123.0</td>\n",
       "    </tr>\n",
       "    <tr>\n",
       "      <th>3</th>\n",
       "      <td>0000434</td>\n",
       "      <td>143.0</td>\n",
       "    </tr>\n",
       "    <tr>\n",
       "      <th>4</th>\n",
       "      <td>0000477</td>\n",
       "      <td>98.0</td>\n",
       "    </tr>\n",
       "  </tbody>\n",
       "</table>\n",
       "</div>"
      ],
      "text/plain": [
       "      cnes  uti_beds_via_cnes\n",
       "0  0000396               10.0\n",
       "1  0000418               70.0\n",
       "2  0000426              123.0\n",
       "3  0000434              143.0\n",
       "4  0000477               98.0"
      ]
     },
     "execution_count": 78,
     "metadata": {},
     "output_type": "execute_result"
    }
   ],
   "source": [
    "cnes_uti = df_beds[df_beds['uti'] == True].groupby('cnes').agg({'total_beds': 'sum'})\n",
    "cnes_uti.reset_index(inplace=True)\n",
    "cnes_uti.rename(columns={'total_beds': 'uti_beds_via_cnes'}, inplace=True)\n",
    "cnes_uti.head()"
   ]
  },
  {
   "cell_type": "code",
   "execution_count": 79,
   "id": "subtle-collaboration",
   "metadata": {},
   "outputs": [],
   "source": [
    "df_hb = df_h.merge(cnes_uti, on='cnes', how='left')"
   ]
  },
  {
   "cell_type": "code",
   "execution_count": 80,
   "id": "angry-importance",
   "metadata": {},
   "outputs": [
    {
     "data": {
      "text/html": [
       "<div>\n",
       "<style scoped>\n",
       "    .dataframe tbody tr th:only-of-type {\n",
       "        vertical-align: middle;\n",
       "    }\n",
       "\n",
       "    .dataframe tbody tr th {\n",
       "        vertical-align: top;\n",
       "    }\n",
       "\n",
       "    .dataframe thead th {\n",
       "        text-align: right;\n",
       "    }\n",
       "</style>\n",
       "<table border=\"1\" class=\"dataframe\">\n",
       "  <thead>\n",
       "    <tr style=\"text-align: right;\">\n",
       "      <th></th>\n",
       "      <th>_index</th>\n",
       "      <th>_type</th>\n",
       "      <th>_id</th>\n",
       "      <th>_score</th>\n",
       "      <th>estado</th>\n",
       "      <th>estadoSigla</th>\n",
       "      <th>municipio</th>\n",
       "      <th>cnes</th>\n",
       "      <th>nomeCnes</th>\n",
       "      <th>dataNotificacaoOcupacao</th>\n",
       "      <th>...</th>\n",
       "      <th>nuCompDesab</th>\n",
       "      <th>dtCarga</th>\n",
       "      <th>dtAtualizacaoOrigem</th>\n",
       "      <th>dtAtualizacao</th>\n",
       "      <th>beds</th>\n",
       "      <th>deactivated</th>\n",
       "      <th>ts_run_cnes</th>\n",
       "      <th>error</th>\n",
       "      <th>deactivated_proxy</th>\n",
       "      <th>uti_beds_via_cnes</th>\n",
       "    </tr>\n",
       "  </thead>\n",
       "  <tbody>\n",
       "    <tr>\n",
       "      <th>0</th>\n",
       "      <td>leito_ocupacao</td>\n",
       "      <td>_doc</td>\n",
       "      <td>2249626</td>\n",
       "      <td>1.0</td>\n",
       "      <td>Rio Grande do Sul</td>\n",
       "      <td>RS</td>\n",
       "      <td>Estação</td>\n",
       "      <td>2249626</td>\n",
       "      <td>HOSPITAL SANTO ANTONIO ESTACAO</td>\n",
       "      <td>2021-03-05 06:40:51+00:00</td>\n",
       "      <td>...</td>\n",
       "      <td>None</td>\n",
       "      <td>02/03/2021</td>\n",
       "      <td>17/03/2003</td>\n",
       "      <td>06/08/2019</td>\n",
       "      <td>[{'dsAtributo': 'ESPEC - CIRURGICO', 'coLeito'...</td>\n",
       "      <td>False</td>\n",
       "      <td>2021-03-03T18:25:14.012835+00:00</td>\n",
       "      <td>False</td>\n",
       "      <td>False</td>\n",
       "      <td>NaN</td>\n",
       "    </tr>\n",
       "    <tr>\n",
       "      <th>1</th>\n",
       "      <td>leito_ocupacao</td>\n",
       "      <td>_doc</td>\n",
       "      <td>2338386</td>\n",
       "      <td>1.0</td>\n",
       "      <td>Goiás</td>\n",
       "      <td>GO</td>\n",
       "      <td>Goiânia</td>\n",
       "      <td>2338386</td>\n",
       "      <td>FUNDACAO BANCO DE OLHOS DE GOIAS</td>\n",
       "      <td>2021-03-05 11:21:37+00:00</td>\n",
       "      <td>...</td>\n",
       "      <td>None</td>\n",
       "      <td>01/03/2021</td>\n",
       "      <td>30/10/2001</td>\n",
       "      <td>05/11/2020</td>\n",
       "      <td>[{'dsAtributo': 'ESPEC - CIRURGICO', 'coLeito'...</td>\n",
       "      <td>False</td>\n",
       "      <td>2021-03-03T18:25:14.012835+00:00</td>\n",
       "      <td>False</td>\n",
       "      <td>False</td>\n",
       "      <td>NaN</td>\n",
       "    </tr>\n",
       "    <tr>\n",
       "      <th>2</th>\n",
       "      <td>leito_ocupacao</td>\n",
       "      <td>_doc</td>\n",
       "      <td>2384035</td>\n",
       "      <td>1.0</td>\n",
       "      <td>Goiás</td>\n",
       "      <td>GO</td>\n",
       "      <td>Santa Rosa de Goiás</td>\n",
       "      <td>2384035</td>\n",
       "      <td>HOSPITAL MUNICIPAL DE SANTA ROSA DE GOIAS</td>\n",
       "      <td>2021-03-05 07:54:52+00:00</td>\n",
       "      <td>...</td>\n",
       "      <td>None</td>\n",
       "      <td>25/02/2021</td>\n",
       "      <td>24/06/2003</td>\n",
       "      <td>09/02/2021</td>\n",
       "      <td>[{'dsAtributo': 'ESPEC - CIRURGICO', 'coLeito'...</td>\n",
       "      <td>False</td>\n",
       "      <td>2021-03-03T18:25:14.012835+00:00</td>\n",
       "      <td>False</td>\n",
       "      <td>False</td>\n",
       "      <td>NaN</td>\n",
       "    </tr>\n",
       "    <tr>\n",
       "      <th>3</th>\n",
       "      <td>leito_ocupacao</td>\n",
       "      <td>_doc</td>\n",
       "      <td>2519356</td>\n",
       "      <td>1.0</td>\n",
       "      <td>Goiás</td>\n",
       "      <td>GO</td>\n",
       "      <td>Goiânia</td>\n",
       "      <td>2519356</td>\n",
       "      <td>MATERNIDADE MODELO</td>\n",
       "      <td>2021-03-05 09:13:53+00:00</td>\n",
       "      <td>...</td>\n",
       "      <td>None</td>\n",
       "      <td>01/03/2021</td>\n",
       "      <td>12/03/2002</td>\n",
       "      <td>05/04/2019</td>\n",
       "      <td>[{'dsAtributo': 'ESPEC - CIRURGICO', 'coLeito'...</td>\n",
       "      <td>False</td>\n",
       "      <td>2021-03-03T18:25:14.012835+00:00</td>\n",
       "      <td>False</td>\n",
       "      <td>False</td>\n",
       "      <td>NaN</td>\n",
       "    </tr>\n",
       "    <tr>\n",
       "      <th>4</th>\n",
       "      <td>leito_ocupacao</td>\n",
       "      <td>_doc</td>\n",
       "      <td>2664836</td>\n",
       "      <td>1.0</td>\n",
       "      <td>Goiás</td>\n",
       "      <td>go</td>\n",
       "      <td>Goiânia</td>\n",
       "      <td>2664836</td>\n",
       "      <td>NaN</td>\n",
       "      <td>2021-03-05 09:03:19+00:00</td>\n",
       "      <td>...</td>\n",
       "      <td>None</td>\n",
       "      <td>01/03/2021</td>\n",
       "      <td>08/04/2003</td>\n",
       "      <td>25/07/2019</td>\n",
       "      <td>[]</td>\n",
       "      <td>False</td>\n",
       "      <td>2021-03-03T18:25:14.012835+00:00</td>\n",
       "      <td>False</td>\n",
       "      <td>False</td>\n",
       "      <td>NaN</td>\n",
       "    </tr>\n",
       "  </tbody>\n",
       "</table>\n",
       "<p>5 rows × 72 columns</p>\n",
       "</div>"
      ],
      "text/plain": [
       "           _index _type      _id  _score             estado estadoSigla  \\\n",
       "0  leito_ocupacao  _doc  2249626     1.0  Rio Grande do Sul          RS   \n",
       "1  leito_ocupacao  _doc  2338386     1.0              Goiás          GO   \n",
       "2  leito_ocupacao  _doc  2384035     1.0              Goiás          GO   \n",
       "3  leito_ocupacao  _doc  2519356     1.0              Goiás          GO   \n",
       "4  leito_ocupacao  _doc  2664836     1.0              Goiás          go   \n",
       "\n",
       "             municipio     cnes                                   nomeCnes  \\\n",
       "0              Estação  2249626             HOSPITAL SANTO ANTONIO ESTACAO   \n",
       "1              Goiânia  2338386           FUNDACAO BANCO DE OLHOS DE GOIAS   \n",
       "2  Santa Rosa de Goiás  2384035  HOSPITAL MUNICIPAL DE SANTA ROSA DE GOIAS   \n",
       "3              Goiânia  2519356                         MATERNIDADE MODELO   \n",
       "4              Goiânia  2664836                                        NaN   \n",
       "\n",
       "    dataNotificacaoOcupacao  ...  nuCompDesab     dtCarga  \\\n",
       "0 2021-03-05 06:40:51+00:00  ...         None  02/03/2021   \n",
       "1 2021-03-05 11:21:37+00:00  ...         None  01/03/2021   \n",
       "2 2021-03-05 07:54:52+00:00  ...         None  25/02/2021   \n",
       "3 2021-03-05 09:13:53+00:00  ...         None  01/03/2021   \n",
       "4 2021-03-05 09:03:19+00:00  ...         None  01/03/2021   \n",
       "\n",
       "   dtAtualizacaoOrigem  dtAtualizacao  \\\n",
       "0           17/03/2003     06/08/2019   \n",
       "1           30/10/2001     05/11/2020   \n",
       "2           24/06/2003     09/02/2021   \n",
       "3           12/03/2002     05/04/2019   \n",
       "4           08/04/2003     25/07/2019   \n",
       "\n",
       "                                                beds  deactivated  \\\n",
       "0  [{'dsAtributo': 'ESPEC - CIRURGICO', 'coLeito'...        False   \n",
       "1  [{'dsAtributo': 'ESPEC - CIRURGICO', 'coLeito'...        False   \n",
       "2  [{'dsAtributo': 'ESPEC - CIRURGICO', 'coLeito'...        False   \n",
       "3  [{'dsAtributo': 'ESPEC - CIRURGICO', 'coLeito'...        False   \n",
       "4                                                 []        False   \n",
       "\n",
       "                        ts_run_cnes  error  deactivated_proxy  \\\n",
       "0  2021-03-03T18:25:14.012835+00:00  False              False   \n",
       "1  2021-03-03T18:25:14.012835+00:00  False              False   \n",
       "2  2021-03-03T18:25:14.012835+00:00  False              False   \n",
       "3  2021-03-03T18:25:14.012835+00:00  False              False   \n",
       "4  2021-03-03T18:25:14.012835+00:00  False              False   \n",
       "\n",
       "   uti_beds_via_cnes  \n",
       "0                NaN  \n",
       "1                NaN  \n",
       "2                NaN  \n",
       "3                NaN  \n",
       "4                NaN  \n",
       "\n",
       "[5 rows x 72 columns]"
      ]
     },
     "execution_count": 80,
     "metadata": {},
     "output_type": "execute_result"
    }
   ],
   "source": [
    "df_hb.head()"
   ]
  },
  {
   "cell_type": "code",
   "execution_count": 81,
   "id": "dense-sterling",
   "metadata": {},
   "outputs": [
    {
     "data": {
      "text/plain": [
       "array(['_index', '_type', '_id', '_score', 'estado', 'estadoSigla',\n",
       "       'municipio', 'cnes', 'nomeCnes', 'dataNotificacaoOcupacao',\n",
       "       'ofertaRespiradores', 'ofertaHospCli', 'ofertaHospUti',\n",
       "       'ofertaSRAGCli', 'ofertaSRAGUti', 'ocupHospCli', 'ocupHospUti',\n",
       "       'ocupSRAGCli', 'ocupSRAGUti', 'altas', 'obitos',\n",
       "       'ocupacaoInformada', 'algumaOcupacaoInformada', 'ts_run',\n",
       "       'totalOfertaCli', 'totalOfertaUti', 'totalOcupCli', 'totalOcupUti',\n",
       "       'totalOfertaCliAlt', 'totalOfertaUtiAlt', 'has_uti_proxy',\n",
       "       'updated_7d', 'updated_14d', 'updated_90d', 'id', 'noFantasia',\n",
       "       'noEmpresarial', 'natJuridica', 'natJuridicaMant', 'cnpj',\n",
       "       'tpPessoa', 'nvDependencia', 'nuAlvara', 'dtExpAlvara',\n",
       "       'orgExpAlvara', 'dsTpUnidade', 'dsStpUnidade', 'noLogradouro',\n",
       "       'nuEndereco', 'cep', 'regionalSaude', 'bairro', 'noComplemento',\n",
       "       'municipio_cnes', 'noMunicipio', 'uf', 'tpGestao', 'nuTelefone',\n",
       "       'tpSempreAberto', 'coMotivoDesab', 'dsMotivoDesab',\n",
       "       'cpfDiretorCln', 'nuCompDesab', 'dtCarga', 'dtAtualizacaoOrigem',\n",
       "       'dtAtualizacao', 'beds', 'deactivated', 'ts_run_cnes', 'error',\n",
       "       'deactivated_proxy', 'uti_beds_via_cnes'], dtype=object)"
      ]
     },
     "execution_count": 81,
     "metadata": {},
     "output_type": "execute_result"
    }
   ],
   "source": [
    "df_hb.columns.values"
   ]
  },
  {
   "cell_type": "code",
   "execution_count": 82,
   "id": "collected-thumbnail",
   "metadata": {},
   "outputs": [],
   "source": [
    "df_hb['bed_diff'] = df_hb['totalOfertaUti'] - df_hb['uti_beds_via_cnes']\n",
    "df_hb['bed_diff_alt'] = df_hb['totalOfertaUtiAlt'] - df_hb['uti_beds_via_cnes']"
   ]
  },
  {
   "cell_type": "code",
   "execution_count": 83,
   "id": "photographic-velvet",
   "metadata": {},
   "outputs": [
    {
     "name": "stdout",
     "output_type": "stream",
     "text": [
      "count    1534.000000\n",
      "mean       -4.495437\n",
      "std        18.082500\n",
      "min      -178.000000\n",
      "25%       -10.000000\n",
      "50%        -1.000000\n",
      "75%         0.000000\n",
      "max       280.000000\n",
      "Name: bed_diff, dtype: float64\n"
     ]
    },
    {
     "data": {
      "text/plain": [
       "<AxesSubplot:>"
      ]
     },
     "execution_count": 83,
     "metadata": {},
     "output_type": "execute_result"
    },
    {
     "data": {
      "image/png": "[encoded data removed]",
      "text/plain": [
       "<Figure size 432x288 with 1 Axes>"
      ]
     },
     "metadata": {
      "needs_background": "light"
     },
     "output_type": "display_data"
    }
   ],
   "source": [
    "print(df_hb['bed_diff'].describe())\n",
    "df_hb[['bed_diff']].boxplot(showfliers=False)"
   ]
  },
  {
   "cell_type": "code",
   "execution_count": 84,
   "id": "german-bookmark",
   "metadata": {},
   "outputs": [
    {
     "name": "stdout",
     "output_type": "stream",
     "text": [
      "count    1534.000000\n",
      "mean       25.641460\n",
      "std        40.467964\n",
      "min       -60.000000\n",
      "25%         4.000000\n",
      "50%        15.000000\n",
      "75%        34.000000\n",
      "max       435.000000\n",
      "Name: bed_diff_alt, dtype: float64\n"
     ]
    },
    {
     "data": {
      "text/plain": [
       "<AxesSubplot:>"
      ]
     },
     "execution_count": 84,
     "metadata": {},
     "output_type": "execute_result"
    },
    {
     "data": {
      "image/png": "[encoded data removed]",
      "text/plain": [
       "<Figure size 432x288 with 1 Axes>"
      ]
     },
     "metadata": {
      "needs_background": "light"
     },
     "output_type": "display_data"
    }
   ],
   "source": [
    "print(df_hb['bed_diff_alt'].describe())\n",
    "df_hb[['bed_diff_alt']].boxplot(showfliers=False)"
   ]
  },
  {
   "cell_type": "code",
   "execution_count": 85,
   "id": "precise-finding",
   "metadata": {},
   "outputs": [],
   "source": [
    "df_tmp = df_hb[(df_hb['deactivated_proxy'] == False) & (df_h.has_uti_proxy == True)]\n",
    "\n",
    "by_state = df_tmp.groupby('estado').agg({\n",
    "    '_id': 'count',\n",
    "    'uti_beds_via_cnes': 'sum',\n",
    "    'totalOfertaUti': 'sum',\n",
    "    'totalOfertaUtiAlt': 'sum',\n",
    "    'totalOcupUti': 'sum',\n",
    "    'ofertaSRAGUti': 'sum',\n",
    "    'ocupSRAGUti': 'sum',\n",
    "    'ofertaHospUti': 'sum',\n",
    "    'ocupHospUti': 'sum',\n",
    "    'updated_7d': 'sum',\n",
    "    'updated_14d': 'sum',\n",
    "    'updated_90d': 'sum',\n",
    "})"
   ]
  },
  {
   "cell_type": "code",
   "execution_count": 86,
   "id": "hungry-static",
   "metadata": {},
   "outputs": [
    {
     "data": {
      "text/plain": [
       "<matplotlib.lines.Line2D at 0x7fca18c75520>"
      ]
     },
     "execution_count": 86,
     "metadata": {},
     "output_type": "execute_result"
    },
    {
     "data": {
      "image/png": "[encoded data removed]",
      "text/plain": [
       "<Figure size 432x648 with 1 Axes>"
      ]
     },
     "metadata": {
      "needs_background": "light"
     },
     "output_type": "display_data"
    }
   ],
   "source": [
    "by_state['pct_occupied'] = by_state['totalOcupUti'] / by_state['totalOfertaUti']\n",
    "by_state[by_state['pct_occupied'] < 10]['pct_occupied'].sort_values().plot.barh(figsize=(6,9)).axvline(1)"
   ]
  },
  {
   "cell_type": "code",
   "execution_count": 87,
   "id": "heard-ethiopia",
   "metadata": {},
   "outputs": [
    {
     "data": {
      "text/plain": [
       "<matplotlib.lines.Line2D at 0x7fca18c75b50>"
      ]
     },
     "execution_count": 87,
     "metadata": {},
     "output_type": "execute_result"
    },
    {
     "data": {
      "image/png": "[encoded data removed]",
      "text/plain": [
       "<Figure size 432x648 with 1 Axes>"
      ]
     },
     "metadata": {
      "needs_background": "light"
     },
     "output_type": "display_data"
    }
   ],
   "source": [
    "by_state['pct_occupied_cnes'] = by_state['totalOcupUti'] / by_state['uti_beds_via_cnes']\n",
    "by_state[by_state['pct_occupied_cnes'] < 10]['pct_occupied_cnes'].sort_values().plot.barh(figsize=(6,9)).axvline(1)"
   ]
  },
  {
   "cell_type": "code",
   "execution_count": 88,
   "id": "international-monthly",
   "metadata": {},
   "outputs": [
    {
     "data": {
      "text/plain": [
       "<matplotlib.lines.Line2D at 0x7fca19b25f70>"
      ]
     },
     "execution_count": 88,
     "metadata": {},
     "output_type": "execute_result"
    },
    {
     "data": {
      "image/png": "[encoded data removed]",
      "text/plain": [
       "<Figure size 432x648 with 1 Axes>"
      ]
     },
     "metadata": {
      "needs_background": "light"
     },
     "output_type": "display_data"
    }
   ],
   "source": [
    "by_state['pct_occupied_cnes_hosp'] = by_state['ocupHospUti'] / by_state['uti_beds_via_cnes']\n",
    "by_state[by_state['pct_occupied_cnes_hosp'] < 10]['pct_occupied_cnes_hosp'].sort_values().plot.barh(figsize=(6,9)).axvline(1)"
   ]
  },
  {
   "cell_type": "code",
   "execution_count": 89,
   "id": "hourly-hypothetical",
   "metadata": {},
   "outputs": [
    {
     "data": {
      "text/plain": [
       "<matplotlib.lines.Line2D at 0x7fca0be57640>"
      ]
     },
     "execution_count": 89,
     "metadata": {},
     "output_type": "execute_result"
    },
    {
     "data": {
      "image/png": "[encoded data removed]",
      "text/plain": [
       "<Figure size 432x648 with 1 Axes>"
      ]
     },
     "metadata": {
      "needs_background": "light"
     },
     "output_type": "display_data"
    }
   ],
   "source": [
    "by_state['pct_occupied_srag'] = by_state['ocupSRAGUti'] / by_state['ofertaSRAGUti']\n",
    "by_state[by_state['pct_occupied_srag'] < 10]['pct_occupied_srag'].sort_values().plot.barh(figsize=(6,9)).axvline(1)"
   ]
  },
  {
   "cell_type": "code",
   "execution_count": 91,
   "id": "freelance-cooling",
   "metadata": {},
   "outputs": [
    {
     "data": {
      "text/html": [
       "<div>\n",
       "<style scoped>\n",
       "    .dataframe tbody tr th:only-of-type {\n",
       "        vertical-align: middle;\n",
       "    }\n",
       "\n",
       "    .dataframe tbody tr th {\n",
       "        vertical-align: top;\n",
       "    }\n",
       "\n",
       "    .dataframe thead th {\n",
       "        text-align: right;\n",
       "    }\n",
       "</style>\n",
       "<table border=\"1\" class=\"dataframe\">\n",
       "  <thead>\n",
       "    <tr style=\"text-align: right;\">\n",
       "      <th></th>\n",
       "      <th>_id</th>\n",
       "      <th>uti_beds_via_cnes</th>\n",
       "      <th>totalOfertaUti</th>\n",
       "      <th>totalOfertaUtiAlt</th>\n",
       "      <th>totalOcupUti</th>\n",
       "      <th>ofertaSRAGUti</th>\n",
       "      <th>ocupSRAGUti</th>\n",
       "      <th>ofertaHospUti</th>\n",
       "      <th>ocupHospUti</th>\n",
       "      <th>updated_7d</th>\n",
       "      <th>updated_14d</th>\n",
       "      <th>updated_90d</th>\n",
       "      <th>pct_occupied</th>\n",
       "      <th>pct_occupied_cnes</th>\n",
       "      <th>pct_occupied_cnes_hosp</th>\n",
       "      <th>pct_occupied_srag</th>\n",
       "    </tr>\n",
       "    <tr>\n",
       "      <th>estado</th>\n",
       "      <th></th>\n",
       "      <th></th>\n",
       "      <th></th>\n",
       "      <th></th>\n",
       "      <th></th>\n",
       "      <th></th>\n",
       "      <th></th>\n",
       "      <th></th>\n",
       "      <th></th>\n",
       "      <th></th>\n",
       "      <th></th>\n",
       "      <th></th>\n",
       "      <th></th>\n",
       "      <th></th>\n",
       "      <th></th>\n",
       "      <th></th>\n",
       "    </tr>\n",
       "  </thead>\n",
       "  <tbody>\n",
       "    <tr>\n",
       "      <th>Mato Grosso</th>\n",
       "      <td>55</td>\n",
       "      <td>1064.0</td>\n",
       "      <td>672.0</td>\n",
       "      <td>1429.0</td>\n",
       "      <td>757.0</td>\n",
       "      <td>241.0</td>\n",
       "      <td>617</td>\n",
       "      <td>431.0</td>\n",
       "      <td>140.0</td>\n",
       "      <td>53</td>\n",
       "      <td>53</td>\n",
       "      <td>54</td>\n",
       "      <td>1.126488</td>\n",
       "      <td>0.711466</td>\n",
       "      <td>0.131579</td>\n",
       "      <td>2.560166</td>\n",
       "    </tr>\n",
       "    <tr>\n",
       "      <th>Mato Grosso do Sul</th>\n",
       "      <td>33</td>\n",
       "      <td>749.0</td>\n",
       "      <td>550.0</td>\n",
       "      <td>1723.0</td>\n",
       "      <td>1173.0</td>\n",
       "      <td>259.0</td>\n",
       "      <td>401</td>\n",
       "      <td>291.0</td>\n",
       "      <td>772.0</td>\n",
       "      <td>31</td>\n",
       "      <td>32</td>\n",
       "      <td>33</td>\n",
       "      <td>2.132727</td>\n",
       "      <td>1.566088</td>\n",
       "      <td>1.030708</td>\n",
       "      <td>1.548263</td>\n",
       "    </tr>\n",
       "    <tr>\n",
       "      <th>Minas Gerais</th>\n",
       "      <td>197</td>\n",
       "      <td>5295.0</td>\n",
       "      <td>4158.0</td>\n",
       "      <td>9662.0</td>\n",
       "      <td>5504.0</td>\n",
       "      <td>1729.0</td>\n",
       "      <td>2169</td>\n",
       "      <td>2429.0</td>\n",
       "      <td>3335.0</td>\n",
       "      <td>171</td>\n",
       "      <td>176</td>\n",
       "      <td>186</td>\n",
       "      <td>1.323713</td>\n",
       "      <td>1.039471</td>\n",
       "      <td>0.629839</td>\n",
       "      <td>1.254482</td>\n",
       "    </tr>\n",
       "    <tr>\n",
       "      <th>Paraná</th>\n",
       "      <td>81</td>\n",
       "      <td>2748.0</td>\n",
       "      <td>2381.0</td>\n",
       "      <td>5192.0</td>\n",
       "      <td>2811.0</td>\n",
       "      <td>989.0</td>\n",
       "      <td>1349</td>\n",
       "      <td>1392.0</td>\n",
       "      <td>1462.0</td>\n",
       "      <td>55</td>\n",
       "      <td>60</td>\n",
       "      <td>70</td>\n",
       "      <td>1.180596</td>\n",
       "      <td>1.022926</td>\n",
       "      <td>0.532023</td>\n",
       "      <td>1.364004</td>\n",
       "    </tr>\n",
       "    <tr>\n",
       "      <th>Paraíba</th>\n",
       "      <td>19</td>\n",
       "      <td>535.0</td>\n",
       "      <td>491.0</td>\n",
       "      <td>950.0</td>\n",
       "      <td>459.0</td>\n",
       "      <td>259.0</td>\n",
       "      <td>220</td>\n",
       "      <td>232.0</td>\n",
       "      <td>239.0</td>\n",
       "      <td>7</td>\n",
       "      <td>10</td>\n",
       "      <td>11</td>\n",
       "      <td>0.934827</td>\n",
       "      <td>0.857944</td>\n",
       "      <td>0.446729</td>\n",
       "      <td>0.849421</td>\n",
       "    </tr>\n",
       "    <tr>\n",
       "      <th>Pará</th>\n",
       "      <td>31</td>\n",
       "      <td>676.0</td>\n",
       "      <td>882.0</td>\n",
       "      <td>1669.0</td>\n",
       "      <td>787.0</td>\n",
       "      <td>548.0</td>\n",
       "      <td>284</td>\n",
       "      <td>334.0</td>\n",
       "      <td>503.0</td>\n",
       "      <td>6</td>\n",
       "      <td>9</td>\n",
       "      <td>12</td>\n",
       "      <td>0.892290</td>\n",
       "      <td>1.164201</td>\n",
       "      <td>0.744083</td>\n",
       "      <td>0.518248</td>\n",
       "    </tr>\n",
       "    <tr>\n",
       "      <th>Pernambuco</th>\n",
       "      <td>53</td>\n",
       "      <td>1887.0</td>\n",
       "      <td>1794.0</td>\n",
       "      <td>3771.0</td>\n",
       "      <td>1977.0</td>\n",
       "      <td>1067.0</td>\n",
       "      <td>911</td>\n",
       "      <td>727.0</td>\n",
       "      <td>1066.0</td>\n",
       "      <td>30</td>\n",
       "      <td>33</td>\n",
       "      <td>41</td>\n",
       "      <td>1.102007</td>\n",
       "      <td>1.047695</td>\n",
       "      <td>0.564918</td>\n",
       "      <td>0.853796</td>\n",
       "    </tr>\n",
       "    <tr>\n",
       "      <th>Piauí</th>\n",
       "      <td>16</td>\n",
       "      <td>353.0</td>\n",
       "      <td>372.0</td>\n",
       "      <td>781.0</td>\n",
       "      <td>409.0</td>\n",
       "      <td>253.0</td>\n",
       "      <td>194</td>\n",
       "      <td>119.0</td>\n",
       "      <td>215.0</td>\n",
       "      <td>11</td>\n",
       "      <td>13</td>\n",
       "      <td>15</td>\n",
       "      <td>1.099462</td>\n",
       "      <td>1.158640</td>\n",
       "      <td>0.609065</td>\n",
       "      <td>0.766798</td>\n",
       "    </tr>\n",
       "    <tr>\n",
       "      <th>Rio Grande do Norte</th>\n",
       "      <td>42</td>\n",
       "      <td>834.0</td>\n",
       "      <td>573.0</td>\n",
       "      <td>1100.0</td>\n",
       "      <td>527.0</td>\n",
       "      <td>250.0</td>\n",
       "      <td>391</td>\n",
       "      <td>323.0</td>\n",
       "      <td>136.0</td>\n",
       "      <td>38</td>\n",
       "      <td>38</td>\n",
       "      <td>39</td>\n",
       "      <td>0.919721</td>\n",
       "      <td>0.631894</td>\n",
       "      <td>0.163070</td>\n",
       "      <td>1.564000</td>\n",
       "    </tr>\n",
       "    <tr>\n",
       "      <th>Rio Grande do Sul</th>\n",
       "      <td>120</td>\n",
       "      <td>3088.0</td>\n",
       "      <td>2249.0</td>\n",
       "      <td>7818.0</td>\n",
       "      <td>5569.0</td>\n",
       "      <td>788.0</td>\n",
       "      <td>2389</td>\n",
       "      <td>1461.0</td>\n",
       "      <td>3180.0</td>\n",
       "      <td>117</td>\n",
       "      <td>117</td>\n",
       "      <td>117</td>\n",
       "      <td>2.476212</td>\n",
       "      <td>1.803433</td>\n",
       "      <td>1.029793</td>\n",
       "      <td>3.031726</td>\n",
       "    </tr>\n",
       "    <tr>\n",
       "      <th>Rio de Janeiro</th>\n",
       "      <td>127</td>\n",
       "      <td>3075.0</td>\n",
       "      <td>2749.0</td>\n",
       "      <td>5950.0</td>\n",
       "      <td>3201.0</td>\n",
       "      <td>1426.0</td>\n",
       "      <td>1226</td>\n",
       "      <td>1323.0</td>\n",
       "      <td>1975.0</td>\n",
       "      <td>65</td>\n",
       "      <td>71</td>\n",
       "      <td>100</td>\n",
       "      <td>1.164423</td>\n",
       "      <td>1.040976</td>\n",
       "      <td>0.642276</td>\n",
       "      <td>0.859748</td>\n",
       "    </tr>\n",
       "    <tr>\n",
       "      <th>Rondônia</th>\n",
       "      <td>18</td>\n",
       "      <td>316.0</td>\n",
       "      <td>238.0</td>\n",
       "      <td>777.0</td>\n",
       "      <td>539.0</td>\n",
       "      <td>130.0</td>\n",
       "      <td>277</td>\n",
       "      <td>108.0</td>\n",
       "      <td>262.0</td>\n",
       "      <td>12</td>\n",
       "      <td>12</td>\n",
       "      <td>14</td>\n",
       "      <td>2.264706</td>\n",
       "      <td>1.705696</td>\n",
       "      <td>0.829114</td>\n",
       "      <td>2.130769</td>\n",
       "    </tr>\n",
       "    <tr>\n",
       "      <th>Roraima</th>\n",
       "      <td>5</td>\n",
       "      <td>145.0</td>\n",
       "      <td>81.0</td>\n",
       "      <td>236.0</td>\n",
       "      <td>155.0</td>\n",
       "      <td>44.0</td>\n",
       "      <td>91</td>\n",
       "      <td>37.0</td>\n",
       "      <td>64.0</td>\n",
       "      <td>1</td>\n",
       "      <td>1</td>\n",
       "      <td>2</td>\n",
       "      <td>1.913580</td>\n",
       "      <td>1.068966</td>\n",
       "      <td>0.441379</td>\n",
       "      <td>2.068182</td>\n",
       "    </tr>\n",
       "    <tr>\n",
       "      <th>Santa Catarina</th>\n",
       "      <td>55</td>\n",
       "      <td>1666.0</td>\n",
       "      <td>1241.0</td>\n",
       "      <td>3492.0</td>\n",
       "      <td>2251.0</td>\n",
       "      <td>576.0</td>\n",
       "      <td>1041</td>\n",
       "      <td>665.0</td>\n",
       "      <td>1210.0</td>\n",
       "      <td>48</td>\n",
       "      <td>53</td>\n",
       "      <td>54</td>\n",
       "      <td>1.813860</td>\n",
       "      <td>1.351140</td>\n",
       "      <td>0.726291</td>\n",
       "      <td>1.807292</td>\n",
       "    </tr>\n",
       "    <tr>\n",
       "      <th>Sergipe</th>\n",
       "      <td>20</td>\n",
       "      <td>404.0</td>\n",
       "      <td>404.0</td>\n",
       "      <td>931.0</td>\n",
       "      <td>527.0</td>\n",
       "      <td>221.0</td>\n",
       "      <td>194</td>\n",
       "      <td>183.0</td>\n",
       "      <td>333.0</td>\n",
       "      <td>12</td>\n",
       "      <td>12</td>\n",
       "      <td>15</td>\n",
       "      <td>1.304455</td>\n",
       "      <td>1.304455</td>\n",
       "      <td>0.824257</td>\n",
       "      <td>0.877828</td>\n",
       "    </tr>\n",
       "    <tr>\n",
       "      <th>São Paulo</th>\n",
       "      <td>393</td>\n",
       "      <td>11729.0</td>\n",
       "      <td>11667.0</td>\n",
       "      <td>20273.0</td>\n",
       "      <td>8606.0</td>\n",
       "      <td>5933.0</td>\n",
       "      <td>6584</td>\n",
       "      <td>5734.0</td>\n",
       "      <td>2022.0</td>\n",
       "      <td>359</td>\n",
       "      <td>360</td>\n",
       "      <td>365</td>\n",
       "      <td>0.737636</td>\n",
       "      <td>0.733737</td>\n",
       "      <td>0.172393</td>\n",
       "      <td>1.109725</td>\n",
       "    </tr>\n",
       "    <tr>\n",
       "      <th>Tocantins</th>\n",
       "      <td>13</td>\n",
       "      <td>311.0</td>\n",
       "      <td>221.0</td>\n",
       "      <td>592.0</td>\n",
       "      <td>371.0</td>\n",
       "      <td>83.0</td>\n",
       "      <td>147</td>\n",
       "      <td>138.0</td>\n",
       "      <td>224.0</td>\n",
       "      <td>9</td>\n",
       "      <td>10</td>\n",
       "      <td>12</td>\n",
       "      <td>1.678733</td>\n",
       "      <td>1.192926</td>\n",
       "      <td>0.720257</td>\n",
       "      <td>1.771084</td>\n",
       "    </tr>\n",
       "  </tbody>\n",
       "</table>\n",
       "</div>"
      ],
      "text/plain": [
       "                     _id  uti_beds_via_cnes  totalOfertaUti  \\\n",
       "estado                                                        \n",
       "Mato Grosso           55             1064.0           672.0   \n",
       "Mato Grosso do Sul    33              749.0           550.0   \n",
       "Minas Gerais         197             5295.0          4158.0   \n",
       "Paraná                81             2748.0          2381.0   \n",
       "Paraíba               19              535.0           491.0   \n",
       "Pará                  31              676.0           882.0   \n",
       "Pernambuco            53             1887.0          1794.0   \n",
       "Piauí                 16              353.0           372.0   \n",
       "Rio Grande do Norte   42              834.0           573.0   \n",
       "Rio Grande do Sul    120             3088.0          2249.0   \n",
       "Rio de Janeiro       127             3075.0          2749.0   \n",
       "Rondônia              18              316.0           238.0   \n",
       "Roraima                5              145.0            81.0   \n",
       "Santa Catarina        55             1666.0          1241.0   \n",
       "Sergipe               20              404.0           404.0   \n",
       "São Paulo            393            11729.0         11667.0   \n",
       "Tocantins             13              311.0           221.0   \n",
       "\n",
       "                     totalOfertaUtiAlt  totalOcupUti  ofertaSRAGUti  \\\n",
       "estado                                                                \n",
       "Mato Grosso                     1429.0         757.0          241.0   \n",
       "Mato Grosso do Sul              1723.0        1173.0          259.0   \n",
       "Minas Gerais                    9662.0        5504.0         1729.0   \n",
       "Paraná                          5192.0        2811.0          989.0   \n",
       "Paraíba                          950.0         459.0          259.0   \n",
       "Pará                            1669.0         787.0          548.0   \n",
       "Pernambuco                      3771.0        1977.0         1067.0   \n",
       "Piauí                            781.0         409.0          253.0   \n",
       "Rio Grande do Norte             1100.0         527.0          250.0   \n",
       "Rio Grande do Sul               7818.0        5569.0          788.0   \n",
       "Rio de Janeiro                  5950.0        3201.0         1426.0   \n",
       "Rondônia                         777.0         539.0          130.0   \n",
       "Roraima                          236.0         155.0           44.0   \n",
       "Santa Catarina                  3492.0        2251.0          576.0   \n",
       "Sergipe                          931.0         527.0          221.0   \n",
       "São Paulo                      20273.0        8606.0         5933.0   \n",
       "Tocantins                        592.0         371.0           83.0   \n",
       "\n",
       "                     ocupSRAGUti  ofertaHospUti  ocupHospUti  updated_7d  \\\n",
       "estado                                                                     \n",
       "Mato Grosso                  617          431.0        140.0          53   \n",
       "Mato Grosso do Sul           401          291.0        772.0          31   \n",
       "Minas Gerais                2169         2429.0       3335.0         171   \n",
       "Paraná                      1349         1392.0       1462.0          55   \n",
       "Paraíba                      220          232.0        239.0           7   \n",
       "Pará                         284          334.0        503.0           6   \n",
       "Pernambuco                   911          727.0       1066.0          30   \n",
       "Piauí                        194          119.0        215.0          11   \n",
       "Rio Grande do Norte          391          323.0        136.0          38   \n",
       "Rio Grande do Sul           2389         1461.0       3180.0         117   \n",
       "Rio de Janeiro              1226         1323.0       1975.0          65   \n",
       "Rondônia                     277          108.0        262.0          12   \n",
       "Roraima                       91           37.0         64.0           1   \n",
       "Santa Catarina              1041          665.0       1210.0          48   \n",
       "Sergipe                      194          183.0        333.0          12   \n",
       "São Paulo                   6584         5734.0       2022.0         359   \n",
       "Tocantins                    147          138.0        224.0           9   \n",
       "\n",
       "                     updated_14d  updated_90d  pct_occupied  \\\n",
       "estado                                                        \n",
       "Mato Grosso                   53           54      1.126488   \n",
       "Mato Grosso do Sul            32           33      2.132727   \n",
       "Minas Gerais                 176          186      1.323713   \n",
       "Paraná                        60           70      1.180596   \n",
       "Paraíba                       10           11      0.934827   \n",
       "Pará                           9           12      0.892290   \n",
       "Pernambuco                    33           41      1.102007   \n",
       "Piauí                         13           15      1.099462   \n",
       "Rio Grande do Norte           38           39      0.919721   \n",
       "Rio Grande do Sul            117          117      2.476212   \n",
       "Rio de Janeiro                71          100      1.164423   \n",
       "Rondônia                      12           14      2.264706   \n",
       "Roraima                        1            2      1.913580   \n",
       "Santa Catarina                53           54      1.813860   \n",
       "Sergipe                       12           15      1.304455   \n",
       "São Paulo                    360          365      0.737636   \n",
       "Tocantins                     10           12      1.678733   \n",
       "\n",
       "                     pct_occupied_cnes  pct_occupied_cnes_hosp  \\\n",
       "estado                                                           \n",
       "Mato Grosso                   0.711466                0.131579   \n",
       "Mato Grosso do Sul            1.566088                1.030708   \n",
       "Minas Gerais                  1.039471                0.629839   \n",
       "Paraná                        1.022926                0.532023   \n",
       "Paraíba                       0.857944                0.446729   \n",
       "Pará                          1.164201                0.744083   \n",
       "Pernambuco                    1.047695                0.564918   \n",
       "Piauí                         1.158640                0.609065   \n",
       "Rio Grande do Norte           0.631894                0.163070   \n",
       "Rio Grande do Sul             1.803433                1.029793   \n",
       "Rio de Janeiro                1.040976                0.642276   \n",
       "Rondônia                      1.705696                0.829114   \n",
       "Roraima                       1.068966                0.441379   \n",
       "Santa Catarina                1.351140                0.726291   \n",
       "Sergipe                       1.304455                0.824257   \n",
       "São Paulo                     0.733737                0.172393   \n",
       "Tocantins                     1.192926                0.720257   \n",
       "\n",
       "                     pct_occupied_srag  \n",
       "estado                                  \n",
       "Mato Grosso                   2.560166  \n",
       "Mato Grosso do Sul            1.548263  \n",
       "Minas Gerais                  1.254482  \n",
       "Paraná                        1.364004  \n",
       "Paraíba                       0.849421  \n",
       "Pará                          0.518248  \n",
       "Pernambuco                    0.853796  \n",
       "Piauí                         0.766798  \n",
       "Rio Grande do Norte           1.564000  \n",
       "Rio Grande do Sul             3.031726  \n",
       "Rio de Janeiro                0.859748  \n",
       "Rondônia                      2.130769  \n",
       "Roraima                       2.068182  \n",
       "Santa Catarina                1.807292  \n",
       "Sergipe                       0.877828  \n",
       "São Paulo                     1.109725  \n",
       "Tocantins                     1.771084  "
      ]
     },
     "execution_count": 91,
     "metadata": {},
     "output_type": "execute_result"
    }
   ],
   "source": [
    "by_state[10:]"
   ]
  },
  {
   "cell_type": "markdown",
   "id": "based-egyptian",
   "metadata": {},
   "source": [
    "CREATE EXTERNAL TABLE IF NOT EXISTS datalake_medidasp.leitos (\n",
    "  hits:array<struct<\n",
    "    `_index`:string,\n",
    "    `_type`:string,\n",
    "    `_id`:string,\n",
    "    `_score`:string,\n",
    "    `_source.estado`:string,\n",
    "    `_source.estadosigla`:string,\n",
    "    `_source.municipio`:string,\n",
    "    `_source.cnes`:string,\n",
    "    `_source.nomecnes`:string,\n",
    "    `_source.datanotificacaoocupacao`:string,\n",
    "    `_source.ofertarespiradores`:string,\n",
    "    `_source.ofertahospcli`:string,\n",
    "    `_source.ofertahosputi`:string,\n",
    "    `_source.ofertasragcli`:string,\n",
    "    `_source.ofertasraguti`:string,\n",
    "    `_source.ocuphospcli`:string,\n",
    "    `_source.ocuphosputi`:string,\n",
    "    `_source.ocupsragcli`:string,\n",
    "    `_source.ocupsraguti`:string,\n",
    "    `_source.altas`:string,\n",
    "    `_source.obitos`:string,\n",
    "    `_source.ocupacaoinformada`:string,\n",
    "    `_source.algumaocupacaoinformada`:string>> \n",
    ")\n",
    "ROW FORMAT SERDE 'org.openx.data.jsonserde.JsonSerDe'\n",
    "WITH SERDEPROPERTIES (\n",
    "  'serialization.format' = '1'\n",
    ") LOCATION 's3://medidasp/leitos/'\n",
    "TBLPROPERTIES ('has_encrypted_data'='false');"
   ]
  },
  {
   "cell_type": "code",
   "execution_count": null,
   "id": "nutritional-aspect",
   "metadata": {},
   "outputs": [],
   "source": []
  }
 ],
 "metadata": {
  "kernelspec": {
   "display_name": "sptrans",
   "language": "python",
   "name": "sptrans"
  },
  "language_info": {
   "codemirror_mode": {
    "name": "ipython",
    "version": 3
   },
   "file_extension": ".py",
   "mimetype": "text/x-python",
   "name": "python",
   "nbconvert_exporter": "python",
   "pygments_lexer": "ipython3",
   "version": "3.8.5"
  }
 },
 "nbformat": 4,
 "nbformat_minor": 5
}
